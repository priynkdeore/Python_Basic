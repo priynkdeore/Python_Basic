{
 "cells": [
  {
   "cell_type": "markdown",
   "id": "9698f05e-656c-4468-9df4-8aa62a4b1755",
   "metadata": {},
   "source": [
    "                                                  ### Introduction of python ###"
   ]
  },
  {
   "cell_type": "code",
   "execution_count": 1,
   "id": "bf73f05d-5d43-4f7b-b484-70353ab4da59",
   "metadata": {},
   "outputs": [
    {
     "name": "stdout",
     "output_type": "stream",
     "text": [
      "Hello World\n"
     ]
    }
   ],
   "source": [
    "\n",
    "# Python is case sensitive\n",
    "print('Hello World')"
   ]
  },
  {
   "cell_type": "code",
   "execution_count": 2,
   "id": "2d7dad00-1cff-4545-8c82-2a1393208d6d",
   "metadata": {},
   "outputs": [
    {
     "name": "stdout",
     "output_type": "stream",
     "text": [
      "7\n"
     ]
    }
   ],
   "source": [
    "print(7)\n"
   ]
  },
  {
   "cell_type": "code",
   "execution_count": 3,
   "id": "9cc853a6-dd09-4286-9a23-2c298c16510e",
   "metadata": {},
   "outputs": [
    {
     "name": "stdout",
     "output_type": "stream",
     "text": [
      "True\n"
     ]
    }
   ],
   "source": [
    "print(True)"
   ]
  },
  {
   "cell_type": "code",
   "execution_count": 4,
   "id": "7aba65e2-3e36-425f-8d88-bd87aae1556f",
   "metadata": {},
   "outputs": [
    {
     "name": "stdout",
     "output_type": "stream",
     "text": [
      "Hello 3 4 5 True\n"
     ]
    }
   ],
   "source": [
    "# how print function strng in python -- it print all the values which we want to pr\n",
    "print('Hello',3,4,5,True)\n"
   ]
  },
  {
   "cell_type": "code",
   "execution_count": 5,
   "id": "54f64f5d-0fe2-40a2-988d-0cbd7b142d04",
   "metadata": {},
   "outputs": [
    {
     "name": "stdout",
     "output_type": "stream",
     "text": [
      "Hello/3/4/5/True\n"
     ]
    }
   ],
   "source": [
    "# sep\n",
    "print('Hello',3,4,5,True,sep='/') # sep is separator where in print function space"
   ]
  },
  {
   "cell_type": "code",
   "execution_count": 6,
   "id": "0e2b9258-32be-49a4-b20c-8b3d3e3b7011",
   "metadata": {},
   "outputs": [
    {
     "name": "stdout",
     "output_type": "stream",
     "text": [
      "you=me\n"
     ]
    }
   ],
   "source": [
    "# end\n",
    "print('you',end=\"=\")\n",
    "print ('me')\n"
   ]
  },
  {
   "cell_type": "markdown",
   "id": "4953966c-75ee-431d-8f31-ed4e6b116095",
   "metadata": {},
   "source": [
    "\n",
    "### Data Types\r\n",
    "1. Integers"
   ]
  },
  {
   "cell_type": "code",
   "execution_count": 7,
   "id": "675f6e31-b16c-492e-ae04-5aba31af194e",
   "metadata": {},
   "outputs": [
    {
     "name": "stdout",
     "output_type": "stream",
     "text": [
      "8\n"
     ]
    }
   ],
   "source": [
    "print(8)\n"
   ]
  },
  {
   "cell_type": "code",
   "execution_count": 8,
   "id": "cf7a5d88-245b-47c2-8699-56a9fa2356c5",
   "metadata": {},
   "outputs": [
    {
     "name": "stdout",
     "output_type": "stream",
     "text": [
      "8.44\n"
     ]
    }
   ],
   "source": [
    "#float\n",
    "print(8.44)\n"
   ]
  },
  {
   "cell_type": "code",
   "execution_count": 9,
   "id": "ce2b8cff-b81c-4524-b8ec-51dbd7565095",
   "metadata": {},
   "outputs": [
    {
     "name": "stdout",
     "output_type": "stream",
     "text": [
      "True\n",
      "False\n"
     ]
    }
   ],
   "source": [
    "print(True)\n",
    "print(False)\n"
   ]
  },
  {
   "cell_type": "code",
   "execution_count": 10,
   "id": "504d0818-0e2c-40e7-9089-c1e24cee0c7c",
   "metadata": {},
   "outputs": [
    {
     "name": "stdout",
     "output_type": "stream",
     "text": [
      "Hello gem\n"
     ]
    }
   ],
   "source": [
    "print('Hello gem')8\n"
   ]
  },
  {
   "cell_type": "code",
   "execution_count": 11,
   "id": "e7298b9a-e329-4332-9456-189795386cee",
   "metadata": {},
   "outputs": [
    {
     "name": "stdout",
     "output_type": "stream",
     "text": [
      "(5+6j)\n"
     ]
    }
   ],
   "source": [
    "print(5+6j)"
   ]
  },
  {
   "cell_type": "markdown",
   "id": "8a45bed4-9390-488d-a20a-b3db85e771c9",
   "metadata": {},
   "source": [
    "### List\r\n",
    "In Python, a list is a data type used to store a collection of values. It is one of the built-in\r\n",
    "data types and is classified as a sequence type. Lists are ordered, mutable (which means you\r\n",
    "can change their contents), and can contain elements of different data types, including\r\n",
    "integers, floats, strings, or even other lists.\r\n",
    "You can create a list in Python by enclosing a comma-separated sequence of values within\r\n",
    "square brackets [ ]. For example:"
   ]
  },
  {
   "cell_type": "code",
   "execution_count": 12,
   "id": "ce4b2c08-0dac-4a68-b55c-ee2b4a6a4831",
   "metadata": {},
   "outputs": [
    {
     "name": "stdout",
     "output_type": "stream",
     "text": [
      "[1, 2, 3, 4]\n"
     ]
    }
   ],
   "source": [
    "print([1,2,3,4])"
   ]
  },
  {
   "cell_type": "markdown",
   "id": "b1ae1884-c869-4416-bfb3-1c299d946ba0",
   "metadata": {},
   "source": [
    "### Tuple\n",
    "In Python, a tuple is another data type used to store a collection of values, similar to a list.\n",
    "However, there are some key differences between tuples and lists:\n",
    "Immutable: The most significant difference is that tuples are immutable, meaning once\n",
    "you create a tuple, you cannot change its contents (add, remove, or modify elements).\n",
    "Lists, on the other hand, are mutable, and you can modify them after creation.\n",
    "Syntax: Tuples are created by enclosing a comma-separated sequence of values within\n",
    "parentheses (). Lists are created with square brackets []. For example:\n",
    "Performance: Due to their immutability, tuples can be more efficient in terms of\n",
    "memory and performance for certain use cases compared to lists.\n",
    "Tuples are often used when you have a collection of values that should not be changed\n",
    "during the course of your program. For example, you might use tuples to represent.\n"
   ]
  },
  {
   "cell_type": "code",
   "execution_count": 13,
   "id": "7e09c201-7a37-4827-80ec-fbb7b775a81c",
   "metadata": {},
   "outputs": [
    {
     "name": "stdout",
     "output_type": "stream",
     "text": [
      "(1, 2, 3, 4)\n"
     ]
    }
   ],
   "source": [
    "print((1,2,3,4))"
   ]
  },
  {
   "cell_type": "markdown",
   "id": "fab44405-03e4-457e-a87b-80f9e213978a",
   "metadata": {},
   "source": [
    "### sets\n",
    "In Python, a set is a built-in data type used to store an unordered collection of unique\n",
    "elements. Sets are defined by enclosing a comma-separated sequence of values within curly\n",
    "braces {} or by using the built-in set() constructor. Sets automatically eliminate duplicate\n",
    "values, ensuring that each element is unique within the set.\n"
   ]
  },
  {
   "cell_type": "code",
   "execution_count": 14,
   "id": "1c87411e-76bf-4b87-91b3-13cdbe21c922",
   "metadata": {},
   "outputs": [
    {
     "name": "stdout",
     "output_type": "stream",
     "text": [
      "{1, 2, 3, 4, 5}\n"
     ]
    }
   ],
   "source": [
    "print({1,2,3,4,5})\n"
   ]
  },
  {
   "cell_type": "markdown",
   "id": "b36ea9f6-3ee2-4377-9b44-1b9879d4fddd",
   "metadata": {},
   "source": [
    "### Dictionary\n",
    "In Python, a dictionary is a built-in data type used to store a collection of key-value pairs.\n",
    "Each key in a dictionary maps to a specific value, creating a relationship between them.\n",
    "Dictionaries are also known as associative arrays or hash maps in other programming\n",
    "languages.\n"
   ]
  },
  {
   "cell_type": "code",
   "execution_count": 15,
   "id": "85f458de-9db5-463a-805c-3b3018496193",
   "metadata": {},
   "outputs": [
    {
     "name": "stdout",
     "output_type": "stream",
     "text": [
      "{'name': 'Nitish', 'gender': 'Male', 'weight': 70}\n"
     ]
    }
   ],
   "source": [
    "print({'name':'Nitish','gender':'Male','weight':70})\n"
   ]
  },
  {
   "cell_type": "markdown",
   "id": "249a0969-225e-41c5-9cdb-3816257f9893",
   "metadata": {},
   "source": [
    "### How to know which type of Datatype is?"
   ]
  },
  {
   "cell_type": "code",
   "execution_count": 16,
   "id": "396be8c0-7711-462b-bb28-78afbf792d78",
   "metadata": {},
   "outputs": [
    {
     "data": {
      "text/plain": [
       "list"
      ]
     },
     "execution_count": 16,
     "metadata": {},
     "output_type": "execute_result"
    }
   ],
   "source": [
    "\n",
    "type([1,2,3,4])\n"
   ]
  },
  {
   "cell_type": "code",
   "execution_count": 17,
   "id": "c76c5f0d-79bc-4f98-9123-3ce661117ad0",
   "metadata": {},
   "outputs": [
    {
     "data": {
      "text/plain": [
       "dict"
      ]
     },
     "execution_count": 17,
     "metadata": {},
     "output_type": "execute_result"
    }
   ],
   "source": [
    "type({'age':20})"
   ]
  },
  {
   "cell_type": "markdown",
   "id": "34593ef3-9265-4604-9f7f-4f2c87ae5d9c",
   "metadata": {},
   "source": [
    "### Variables\n",
    "In Python, variables are used to store data values. These values can be numbers, strings,\n",
    "lists, dictionaries, or any other data type. Variables are essential for manipulating and\n",
    "working with data in your programs. Here's how you declare and use variables in Python:\n",
    "1. Variable Declaration: You declare a variable by assigning a value to it using the\n",
    "assignment operator '='.\n"
   ]
  },
  {
   "cell_type": "code",
   "execution_count": 18,
   "id": "54a4580f-b22a-43da-891e-457b3bcef86a",
   "metadata": {},
   "outputs": [],
   "source": [
    "x = 5 # Assigning the integer value 5 to the variable 'x'\n",
    "name = \"Alice\" # Assigning a string value to the variable 'name"
   ]
  },
  {
   "cell_type": "markdown",
   "id": "d208598d-e187-40ee-8bef-fc88956fcd6c",
   "metadata": {},
   "source": [
    "### 1. Variable Names: Variable names (also known as identifiers) must adhere to the\n",
    "following rules:\n",
    "They can contain letters (a-z, A-Z), digits (0-9), and underscores (_).\n",
    "They cannot start with a digit.\n",
    "Variable names are case-sensitive, so myVar and myvar are treated as different\n",
    "variables.\n",
    "Python has reserved keywords (e.g., if, for, while, print) that cannot be used as variable\n",
    "names.\n",
    "1. Data Types: Python is dynamically typed, which means you don't need to declare the\n",
    "data type of a variable explicitly. Python will determine the data type automatically\n",
    "based on the assigned value.\n"
   ]
  },
  {
   "cell_type": "code",
   "execution_count": 19,
   "id": "ffdee4c2-333f-4e4e-84f5-1c7bd483254d",
   "metadata": {},
   "outputs": [
    {
     "name": "stdout",
     "output_type": "stream",
     "text": [
      "6\n"
     ]
    }
   ],
   "source": [
    "# 1. Reassignment: You can change the value of a variable by assigning it a new value.\n",
    "x = 5\n",
    "x = x + 1 # Updating the value of 'x' to 6\n",
    "print(x)\n"
   ]
  },
  {
   "cell_type": "code",
   "execution_count": 20,
   "id": "807498fc-6fc0-4a6c-b121-342113da44a8",
   "metadata": {},
   "outputs": [
    {
     "name": "stdout",
     "output_type": "stream",
     "text": [
      "1\n"
     ]
    }
   ],
   "source": [
    "#Multiple Assignment: Python allows you to assign multiple variables in a single line.\n",
    "a, b, c = 1, 2, 3 # Assigning values 1, 2, and 3 to variables a, b, and c, respective\n",
    "print(a)\n"
   ]
  },
  {
   "cell_type": "markdown",
   "id": "0f67548b-b381-473a-953a-df59f923dc43",
   "metadata": {},
   "source": [
    "### What is comments in Python?\n",
    "In Python, comments are used to annotate and provide explanations within your code.\n",
    "Comments are not executed by the Python interpreter; instead, they are meant for human\n",
    "readers to understand the code better. Comments are ignored by the interpreter during\n",
    "program execution.\n",
    "Python supports two types of comments:\n",
    ". Single-line Comments: Single-line comments start with the hash symbol ( # ) and\r\n",
    "continue until the end of the line. They are used to add comments on a single line.\r\n",
    "# This is a single-line comment\r\n",
    "x = 5 # Assigning a value to 'x'\r\n",
    "Everything after the # symbol on that line is considered a commen"
   ]
  },
  {
   "cell_type": "code",
   "execution_count": 21,
   "id": "a773c854-8d51-403d-8219-13fed8e2bce3",
   "metadata": {},
   "outputs": [],
   "source": [
    "# This is a single-line comment\n",
    "x = 5 # Assigning a value to 'x'"
   ]
  },
  {
   "cell_type": "markdown",
   "id": "03128d45-8414-4b77-8119-1d60ef925665",
   "metadata": {},
   "source": [
    "### 1. Multi-line or Block Comments: Python does not have a specific syntax for multi-line\n",
    "comments like some other languages (e.g., C, Java). However, you can create multi-line\n",
    "comments by using triple-quotes ( ''' or \"\"\" ) as a string delimiter. These strings are\n",
    "not assigned to any variable and are ignored by the interpreter. This is a common\n",
    "practice for writing docstrings (documentation within functions and modules).\n"
   ]
  },
  {
   "cell_type": "code",
   "execution_count": 22,
   "id": "0c82c6a8-eeeb-4c3a-84c8-4db93e6d3c3b",
   "metadata": {},
   "outputs": [],
   "source": [
    "'''\n",
    "This is a multi-line comment.\n",
    "It can span multiple lines.\n",
    "'''\n",
    "def my_function():\n",
    " \"\"\"\n",
    " This is a docstring.\n",
    " It provides documentation for the function.\n",
    " \"\"\"\n",
    " pass\n"
   ]
  },
  {
   "cell_type": "markdown",
   "id": "616813fd-c62d-4b72-84d4-fe1346b6243a",
   "metadata": {},
   "source": [
    "### While these triple-quoted strings are not technically comments, they are often used as a\n",
    "way to document code effectively.\n",
    "Comments are crucial for making your code more understandable, both for yourself and for\n",
    "others who may read your code. They help explain the purpose of variables, functions, and\n",
    "complex algorithms, making it easier to maintain and debug code. Good commenting\n",
    "practices can significantly improve code readability and maintainability."
   ]
  },
  {
   "cell_type": "markdown",
   "id": "70f948d8-7181-4aec-b20a-32492638d26e",
   "metadata": {},
   "source": [
    "### 4. User Input\n",
    "How to get Input from the user in python?"
   ]
  },
  {
   "cell_type": "code",
   "execution_count": 23,
   "id": "a2693895-c2dd-4018-8abf-30545da5ec3b",
   "metadata": {},
   "outputs": [
    {
     "name": "stdin",
     "output_type": "stream",
     "text": [
      "Enter Email priya@gmail.com\n"
     ]
    },
    {
     "data": {
      "text/plain": [
       "'priya@gmail.com'"
      ]
     },
     "execution_count": 23,
     "metadata": {},
     "output_type": "execute_result"
    }
   ],
   "source": [
    "input('Enter Email')\n"
   ]
  },
  {
   "cell_type": "code",
   "execution_count": 24,
   "id": "b3416e4e-fb21-4e7f-9985-5d718069169b",
   "metadata": {},
   "outputs": [
    {
     "name": "stdin",
     "output_type": "stream",
     "text": [
      "enter first number 65\n",
      "enter second number 67\n"
     ]
    },
    {
     "name": "stdout",
     "output_type": "stream",
     "text": [
      "132\n",
      "<class 'int'>\n"
     ]
    }
   ],
   "source": [
    "# take input from users and store them in a variable\n",
    "fnum = int(input('enter first number'))\n",
    "snum = int(input('enter second number'))\n",
    "#print(type(fnum),type(snum))\n",
    "# add the 2 variables\n",
    "result = fnum + snum\n",
    "# print the result\n",
    "print(result)\n",
    "print(type(fnum))\n"
   ]
  },
  {
   "cell_type": "markdown",
   "id": "c9ea9329-d16a-4452-915b-95b0c32e682c",
   "metadata": {},
   "source": [
    "### 5. Type Conversion\n",
    "How to covert One Datatypeinto another In python?\n",
    "int(): Converts a value to an integer data type. This is useful when you want to convert a\n",
    "string or a floating-point number to an integer."
   ]
  },
  {
   "cell_type": "code",
   "execution_count": 25,
   "id": "96002e95-bed6-4b1e-96bb-6398f9a26325",
   "metadata": {},
   "outputs": [
    {
     "data": {
      "text/plain": [
       "123"
      ]
     },
     "execution_count": 25,
     "metadata": {},
     "output_type": "execute_result"
    }
   ],
   "source": [
    "str_number = \"123\"\n",
    "int_number = int(str_number) # Converts the string \"123\" to an integer\n",
    "int_number"
   ]
  },
  {
   "cell_type": "code",
   "execution_count": 26,
   "id": "04865cf9-c76c-47e9-9399-cd6e691817fe",
   "metadata": {},
   "outputs": [
    {
     "data": {
      "text/plain": [
       "42.0"
      ]
     },
     "execution_count": 26,
     "metadata": {},
     "output_type": "execute_result"
    }
   ],
   "source": [
    "#float(): Converts a value to a floating-point data type. It is used to convert integers or\n",
    "#strings containing numeric values to floating-point numbers.\n",
    "\n",
    "int_value = 42\n",
    "float_value = float(int_value) # Converts the integer 42 to a float\n",
    "float_value\n"
   ]
  },
  {
   "cell_type": "code",
   "execution_count": 27,
   "id": "ad311058-867a-44a6-b147-398b08cb2a9c",
   "metadata": {},
   "outputs": [
    {
     "ename": "TypeError",
     "evalue": "unsupported operand type(s) for +: 'int' and 'str'",
     "output_type": "error",
     "traceback": [
      "\u001b[1;31m---------------------------------------------------------------------------\u001b[0m",
      "\u001b[1;31mTypeError\u001b[0m                                 Traceback (most recent call last)",
      "Cell \u001b[1;32mIn[27], line 3\u001b[0m\n\u001b[0;32m      1\u001b[0m a \u001b[38;5;241m=\u001b[39m \u001b[38;5;241m23\u001b[39m\n\u001b[0;32m      2\u001b[0m b \u001b[38;5;241m=\u001b[39m \u001b[38;5;124m\"\u001b[39m\u001b[38;5;124m24\u001b[39m\u001b[38;5;124m\"\u001b[39m\n\u001b[1;32m----> 3\u001b[0m \u001b[38;5;28mprint\u001b[39m(\u001b[43ma\u001b[49m\u001b[38;5;241;43m+\u001b[39;49m\u001b[43mb\u001b[49m)\n",
      "\u001b[1;31mTypeError\u001b[0m: unsupported operand type(s) for +: 'int' and 'str'"
     ]
    }
   ],
   "source": [
    "a = 23\n",
    "b = \"24\"\n",
    "print(a+b)\n"
   ]
  },
  {
   "cell_type": "markdown",
   "id": "d5f161b4-6330-4c1c-84b2-84ac8d27641b",
   "metadata": {},
   "source": [
    "### It Gives error beacause We do not add float into integer datatyupe so we have to convert\n",
    "above opeartion\n"
   ]
  },
  {
   "cell_type": "code",
   "execution_count": 28,
   "id": "13527759-ec59-4c4b-a8ca-070d4adc5f17",
   "metadata": {},
   "outputs": [
    {
     "name": "stdout",
     "output_type": "stream",
     "text": [
      "47.0\n"
     ]
    }
   ],
   "source": [
    "a = 23\n",
    "b = \"24\"\n",
    "print(float(a)+float(b))"
   ]
  },
  {
   "cell_type": "markdown",
   "id": "ca5d1a24-e9d8-4830-b7b0-32b04ec75621",
   "metadata": {},
   "source": [
    "### 6. Literals\n",
    "In Python, literals are used to represent fixed values in your code. These values are not\n",
    "variables or expressions but rather constants that have a specific value and data type\n",
    "associated with them. Python supports various types of literals,\n"
   ]
  },
  {
   "cell_type": "code",
   "execution_count": 29,
   "id": "9fa5c009-7387-4292-bbcb-93b87d3db0e4",
   "metadata": {},
   "outputs": [
    {
     "name": "stdout",
     "output_type": "stream",
     "text": [
      "10 100 200 300\n",
      "10.5 150.0 0.0015\n",
      "3.14j 3.14 0.0\n"
     ]
    }
   ],
   "source": [
    "a = 0b1010 #Binary Literals\n",
    "b = 100 #Decimal Literal\n",
    "c = 0o310 #Octal Literal\n",
    "d = 0x12c #Hexadecimal Literal\n",
    "#Float Literal\n",
    "float_1 = 10.5\n",
    "float_2 = 1.5e2 # 1.5 * 10^2\n",
    "float_3 = 1.5e-3 # 1.5 * 10^-3\n",
    "#Complex Literal\n",
    "x = 3.14j\n",
    "print(a, b, c, d)\n",
    "print(float_1, float_2,float_3)\n",
    "print(x, x.imag, x.real)"
   ]
  },
  {
   "cell_type": "code",
   "execution_count": 30,
   "id": "2c0c8405-781e-414f-9900-88b5a5ae40b2",
   "metadata": {},
   "outputs": [
    {
     "name": "stdout",
     "output_type": "stream",
     "text": [
      "3.14\n"
     ]
    }
   ],
   "source": [
    "# binary\n",
    "x = 3.14j\n",
    "print(x.imag)\n"
   ]
  },
  {
   "cell_type": "code",
   "execution_count": 31,
   "id": "320c1343-010a-48d5-8d13-8a0fdcd5da43",
   "metadata": {},
   "outputs": [
    {
     "name": "stdout",
     "output_type": "stream",
     "text": [
      "This is Python\n",
      "This is Python\n",
      "C\n",
      "This is a multiline string with more than one line code.\n",
      "😀😆🤣\n",
      "raw \\n string\n"
     ]
    }
   ],
   "source": [
    "string = 'This is Python'\n",
    "strings = \"This is Python\"\n",
    "char = \"C\"\n",
    "multiline_str = \"\"\"This is a multiline string with more than one line code.\"\"\"\n",
    "unicode = u\"\\U0001f600\\U0001F606\\U0001F923\"\n",
    "raw_str = r\"raw \\n string\"\n",
    "print(string)\n",
    "print(strings)\n",
    "print(char)\n",
    "print(multiline_str)\n",
    "print(unicode)\n",
    "print(raw_str)"
   ]
  },
  {
   "cell_type": "markdown",
   "id": "037dd6f1-77a4-407c-a47c-796e5b9c04b7",
   "metadata": {},
   "source": [
    "### Operators In Python\n",
    "1.Arithmetic Operators:\n",
    "Addition (+)\n",
    "Subtraction (-)\n",
    "Multiplication (*)\n",
    "Division (/)\n",
    "Floor Division (//)\n",
    "Modulus (%)\n",
    "Exponentiation (**)\n"
   ]
  },
  {
   "cell_type": "code",
   "execution_count": 32,
   "id": "76399b75-effa-4221-b185-3255b6f06200",
   "metadata": {},
   "outputs": [
    {
     "name": "stdout",
     "output_type": "stream",
     "text": [
      "11\n",
      "-1\n",
      "30\n",
      "2.5\n",
      "2\n",
      "1\n",
      "25\n"
     ]
    }
   ],
   "source": [
    "print(5+6) # Addtion -> adding the numbers\n",
    "print(5-6) # subtraction-> subtract the number\n",
    "print(5*6) # Multiplication -> Multiply the number\n",
    "print(5/2) # Divsion -> Divide the numnber\n",
    "print(5//2) # Floor Division -> It trasform into integer number= 2.5 convert into 2\n",
    "print(5%2) # Modulus -> It Provides remainder of the Divsion\n",
    "print(5**2) # Exponential -> raising a number to a certain power.(raised to power)"
   ]
  },
  {
   "cell_type": "markdown",
   "id": "d4ebac16-42e7-4542-bd55-1b8a04e1894c",
   "metadata": {},
   "source": [
    "### 2. Comparison Operators/ Relational Opeartors:\n",
    "Equal to (==)\n",
    "Not equal to (!=)\n",
    "Less than (<)\n",
    "Greater than (>)\n",
    "Less than or equal to (<=)\n",
    "Greater than or equal to (>=)"
   ]
  },
  {
   "cell_type": "code",
   "execution_count": 33,
   "id": "e0f518e3-9031-4a48-93a7-9a8bed3c7abf",
   "metadata": {},
   "outputs": [
    {
     "name": "stdout",
     "output_type": "stream",
     "text": [
      "True\n",
      "False\n",
      "True\n",
      "False\n",
      "True\n",
      "True\n"
     ]
    }
   ],
   "source": [
    "print(4==4)\n",
    "print(4!=4)\n",
    "print(4<5)\n",
    "print(4>5)\n",
    "print(4<=4)\n",
    "print(4>=4)\n"
   ]
  },
  {
   "cell_type": "markdown",
   "id": "8828e956-638b-4d3b-8987-e024c0f3a80a",
   "metadata": {},
   "source": [
    "2. Logical Operators:\n",
    "Logical AND (and)\n",
    "Logical OR (or)\n",
    "Logical NOT (not)"
   ]
  },
  {
   "cell_type": "code",
   "execution_count": 34,
   "id": "042631c9-1f55-4305-b446-d9e146d30890",
   "metadata": {},
   "outputs": [
    {
     "name": "stdout",
     "output_type": "stream",
     "text": [
      "False\n",
      "True\n",
      "False\n"
     ]
    }
   ],
   "source": [
    "p = True\n",
    "q = False\n",
    "print(p and q) # true and false -> 1 and 0 = 0\n",
    "print(p or q) # true or false -> 1 or 0 = 1\n",
    "print(not p)\n"
   ]
  },
  {
   "cell_type": "markdown",
   "id": "57cea952-0bb8-4c96-818e-9b1444f64b8c",
   "metadata": {},
   "source": [
    "3. Assignment Operators:\n",
    "Assignment (=)\n",
    "Add and Assign (+=)\n",
    "Subtract and Assign (-=)\n",
    "Multiply and Assign (*=)\n",
    "Divide and Assign (/=)\n",
    "Floor Divide and Assign (//=)\n",
    "Modulus and Assign (%=)\n",
    "Exponentiate and Assign (**=)"
   ]
  },
  {
   "cell_type": "code",
   "execution_count": 36,
   "id": "dad60825-b84e-499a-b7e3-2a62ce985442",
   "metadata": {},
   "outputs": [
    {
     "name": "stdout",
     "output_type": "stream",
     "text": [
      "15\n"
     ]
    }
   ],
   "source": [
    "x = 10\n",
    "x += 5\n",
    "print(x)\n",
    "\n",
    "x -= 3 # Equivalent to x = x - 3\n",
    "x *= 2 # Equivalent to x = x * 2\n",
    "x /= 4 # Equivalent to x = x / 4\n",
    "x //= 2 # Equivalent to x = x // 2\n",
    "x %= 3 # Equivalent to x = x % 3\n",
    "x **= 2 # Equivalent to x = x ** 2"
   ]
  },
  {
   "cell_type": "markdown",
   "id": "50084c03-767f-4938-ae13-291892839a88",
   "metadata": {},
   "source": [
    "4.Bitwise Operators:\n",
    "Bitwise AND (&)\n",
    "Bitwise OR (|)\n",
    "Bitwise XOR (^)\n",
    "Bitwise NOT (~)\n",
    "Left Shift (<<)\n",
    "Right Shift (>>)"
   ]
  },
  {
   "cell_type": "code",
   "execution_count": 37,
   "id": "448b66ef-3a38-4fce-a485-687bbd0a61fa",
   "metadata": {},
   "outputs": [
    {
     "name": "stdout",
     "output_type": "stream",
     "text": [
      "1\n",
      "7\n",
      "6\n",
      "-6\n",
      "10\n",
      "2\n"
     ]
    }
   ],
   "source": [
    "m = 5 # 101 in binary\n",
    "n = 3 # 011 in binary\n",
    "bitwise_and = m & n # 001 (1 in decimal)\n",
    "print(bitwise_and)\n",
    "bitwise_or = m | n # 111 (7 in decimal)\n",
    "print(bitwise_or)\n",
    "bitwise_xor = m ^ n # 110 (6 in decimal)\n",
    "print(bitwise_xor)\n",
    "bitwise_not_m = ~m # -6 (in decimal)\n",
    "print(bitwise_not_m)\n",
    "left_shift = m << 1 # 010 (2 in decimal)\n",
    "print(left_shift)\n",
    "right_shift = m >> 1 # 010 (2 in decimal)\n",
    "print(right_shift)"
   ]
  },
  {
   "cell_type": "markdown",
   "id": "16021ef2-7521-4422-a0f6-cbdc7c666e63",
   "metadata": {},
   "source": [
    "These are the basic operators in Python. You can use them to perform various operations on\n",
    "variables and values in your Python programs"
   ]
  },
  {
   "cell_type": "markdown",
   "id": "c555edac-0908-441a-b7e0-214c90919ffa",
   "metadata": {},
   "source": [
    "### Loops In Python\n",
    "In Python, loops are used to execute a block of code repeatedly\n",
    "There are two main types of loops in Python: ### 1. 'For' loops ### 2. 'While' loops ###\n",
    "3. Loops Controls Statement\n",
    "What is the use of Loops?why we used that?? (interview Question)\n",
    "Answer:\n",
    "Loops in Python are used to execute a block of code repeatedly.\n",
    "They are essential for automating repetitive tasks, processing collections of data (e.g.,\n",
    "lists or strings), and iterating through sequences or until a specific condition is met.\n",
    "for loops are commonly used for iteration, while while loops are used when you need to\n",
    "repeat code based on a condition.\n",
    "Loop control statements like break and continue provide flexibility in managing loop\n",
    "execution, making Python a powerful language for tasks that involve repetition and\n",
    "iteration.\n",
    "1. For loops\n",
    "A 'for loop' is used to iterate over a sequence (such as a list, tuple, string, or range) and\n",
    "execute a block of code for each item in the sequence.\n"
   ]
  },
  {
   "cell_type": "code",
   "execution_count": 38,
   "id": "083e92cf-0df2-4bbd-9a06-16a1916a1395",
   "metadata": {},
   "outputs": [
    {
     "name": "stdout",
     "output_type": "stream",
     "text": [
      "1\n",
      "2\n",
      "3\n",
      "4\n",
      "5\n",
      "6\n",
      "7\n",
      "8\n",
      "9\n",
      "10\n"
     ]
    }
   ],
   "source": [
    "# if we have to print 1 to 10 number then we use fo loop\n",
    "for i in range(1,11): # in for loop we have to sepcify the range or also mention\n",
    " print(i)"
   ]
  },
  {
   "cell_type": "code",
   "execution_count": 39,
   "id": "575db1e8-83b4-4ca3-b880-fcab29defe56",
   "metadata": {},
   "outputs": [
    {
     "name": "stdout",
     "output_type": "stream",
     "text": [
      "1\n",
      "2\n",
      "3\n",
      "4\n",
      "5\n",
      "6\n",
      "7\n",
      "8\n"
     ]
    }
   ],
   "source": [
    "# for loop for datatype like tuple\n",
    "for i in (1,2,3,4,5,6,7,8):\n",
    " print(i)\n",
    "\n",
    "# for loop is very very flexible and powerful in python it used with all datatypes "
   ]
  },
  {
   "cell_type": "code",
   "execution_count": 40,
   "id": "29c9d4cd-8239-4628-b11c-f4a96d13bc10",
   "metadata": {},
   "outputs": [
    {
     "name": "stdout",
     "output_type": "stream",
     "text": [
      "1\n",
      "3\n",
      "5\n",
      "7\n",
      "9\n",
      "11\n",
      "13\n",
      "15\n",
      "17\n",
      "19\n"
     ]
    }
   ],
   "source": [
    "# how to print 1 to 20 with differnce of 2\n",
    "for i in range(1,21,2): # 2 is the\n",
    " print(i)\n"
   ]
  },
  {
   "cell_type": "markdown",
   "id": "80669a3f-dcb5-48d6-8ca9-dbc5c7d213c1",
   "metadata": {},
   "source": [
    "The 2 inside the range() function is called the \"step\" or \"stride.\" It determines the\n",
    "increment between each consecutive value in the range. In this case, the loop will\n",
    "iterate over the numbers from 1 to 20, with a step of 2.\n",
    "So, the loop will print the following numbers: 1, 3, 5, 7, 9, 11, 13, 15, 17, and 19. The\n",
    "loop starts at 1, increments by 2 in each iteration, and stops before reaching or\n",
    "exceeding 21.\n"
   ]
  },
  {
   "cell_type": "code",
   "execution_count": 41,
   "id": "2a6a9e75-0acd-412a-90c3-53903875616a",
   "metadata": {},
   "outputs": [
    {
     "name": "stdout",
     "output_type": "stream",
     "text": [
      "10\n",
      "9\n",
      "8\n",
      "7\n",
      "6\n",
      "5\n",
      "4\n",
      "3\n",
      "2\n",
      "1\n"
     ]
    }
   ],
   "source": [
    "# how to print 10 to 1 in reverse order\n",
    "for i in range(10,0,-1):\n",
    " print(i)"
   ]
  },
  {
   "cell_type": "markdown",
   "id": "5fd9bb28-fb7b-475d-8808-e5b35ea4a75a",
   "metadata": {},
   "source": [
    "Program - The current population of a town is 10000. The\n",
    "population of the town is increasing at the rate of 10% per\n",
    "year. You have to write a program to find out the population\n",
    "at the end of each of the last 10 years.\n"
   ]
  },
  {
   "cell_type": "code",
   "execution_count": 43,
   "id": "4b026839-d43d-49b8-9ca9-e73add4ad56b",
   "metadata": {},
   "outputs": [
    {
     "name": "stdout",
     "output_type": "stream",
     "text": [
      "10 10000\n",
      "9 10000\n",
      "8 10000\n",
      "7 10000\n",
      "6 10000\n",
      "5 10000\n",
      "4 10000\n",
      "3 10000\n",
      "2 10000\n",
      "1 10000\n"
     ]
    }
   ],
   "source": [
    "\n",
    "# for this we use for loop\n",
    "curr_pop = 10000\n",
    "for i in range(10,0,-1):\n",
    " print(i,curr_pop)\n",
    "curr_pop /= 1.1\n"
   ]
  },
  {
   "cell_type": "markdown",
   "id": "82d922b8-c3f3-409d-b650-bedb4b7fa937",
   "metadata": {},
   "source": [
    "2. While Loop\n",
    "A while loop is used to repeatedly execute a block of code as long as a certain\n",
    "condition is true."
   ]
  },
  {
   "cell_type": "code",
   "execution_count": 44,
   "id": "7c69264a-488d-496e-b341-14b226bb52f9",
   "metadata": {},
   "outputs": [
    {
     "name": "stdout",
     "output_type": "stream",
     "text": [
      "1\n",
      "2\n",
      "3\n",
      "4\n",
      "5\n"
     ]
    }
   ],
   "source": [
    "# if we want to print 1 to 5 with the help of while\n",
    "count = 1\n",
    "while count <= 5:\n",
    " print(count)\n",
    " count += 1"
   ]
  },
  {
   "cell_type": "code",
   "execution_count": 45,
   "id": "0d1e19e6-0d0f-4c17-b27c-ea9153ca0265",
   "metadata": {},
   "outputs": [
    {
     "name": "stdin",
     "output_type": "stream",
     "text": [
      "Enter the Number 13\n"
     ]
    },
    {
     "name": "stdout",
     "output_type": "stream",
     "text": [
      "13\n",
      "26\n",
      "39\n",
      "52\n",
      "65\n",
      "78\n",
      "91\n",
      "104\n",
      "117\n",
      "130\n"
     ]
    }
   ],
   "source": [
    "# Program ->print 12 table\n",
    "num = int(input('Enter the Number'))\n",
    "i = 1\n",
    "while i<11:\n",
    " print(num * i)\n",
    " i+=1\n"
   ]
  },
  {
   "cell_type": "markdown",
   "id": "61f1d3f5-31f4-43ab-ae33-83cc3ac13eab",
   "metadata": {},
   "source": [
    "3. Loop Control Statements:\n",
    "In addition to basic loops, Python provides loop control statements that allow you to\n",
    "customize loop behavior:\n",
    "'break': Used to exit the loop prematurely based on a certain condition.\n",
    "'continue': Skips the current iteration of the loop and proceeds to the next iteration.\r\n",
    "'else' clause: Can be used with a for or while loop to specify a block of code that will be\r\n",
    "executed after the loop has finished normally (i.e., without hitting a break statement)."
   ]
  },
  {
   "cell_type": "code",
   "execution_count": 46,
   "id": "89624316-5d67-45d4-ab81-60a26dac937a",
   "metadata": {},
   "outputs": [
    {
     "name": "stdout",
     "output_type": "stream",
     "text": [
      "1\n",
      "2\n",
      "limit Crossed\n"
     ]
    }
   ],
   "source": [
    "#while loop with else\n",
    "x = 1\n",
    "while x < 3:\n",
    " print(x)\n",
    " x += 1\n",
    "\n",
    "else:\n",
    " print('limit Crossed')\n"
   ]
  },
  {
   "cell_type": "code",
   "execution_count": 48,
   "id": "4a92413a-2f36-455e-987a-73b94fdb5953",
   "metadata": {},
   "outputs": [
    {
     "name": "stdout",
     "output_type": "stream",
     "text": [
      "1\n",
      "2\n",
      "3\n",
      "4\n",
      "5\n",
      "Loop ended\n"
     ]
    }
   ],
   "source": [
    "#Break and Continue\n",
    "# Using break\n",
    "numbers = [1, 2, 3, 4, 5, 6, 7, 8, 9, 10]\n",
    "for num in numbers:\n",
    " if num == 6:\n",
    "   break # Exit the loop when num equals 6\n",
    " print(num)\n",
    "print(\"Loop ended\")\n"
   ]
  },
  {
   "cell_type": "markdown",
   "id": "40857b00-40dd-4397-a53f-fed9f0681e92",
   "metadata": {},
   "source": [
    "In this example, the loop will print numbers 1 through 5 and then exit the loop when num\n",
    "becomes 6 due to the break statement. The \"Loop ended\" message will be printed after the\n",
    "loop finishes."
   ]
  },
  {
   "cell_type": "code",
   "execution_count": 49,
   "id": "140ede54-e3a9-4ad4-b11f-a6d633c7ae89",
   "metadata": {},
   "outputs": [
    {
     "name": "stdout",
     "output_type": "stream",
     "text": [
      "1\n",
      "2\n",
      "4\n",
      "5\n",
      "Loop ended\n"
     ]
    }
   ],
   "source": [
    "# Using continue\n",
    "numbers = [1, 2, 3, 4, 5]\n",
    "for num in numbers:\n",
    " if num == 3:\n",
    "    continue # Skip printing 3 and continue with the next iteration\n",
    " print(num)\n",
    "print(\"Loop ended\")"
   ]
  },
  {
   "cell_type": "markdown",
   "id": "036d1435-af8e-4b9c-b7d6-6900e2fafd9e",
   "metadata": {},
   "source": [
    "In this example, when num equals 3, the continue statement is encountered, which skips the\n",
    "printing of 3 and moves on to the next iteration. As a result, the loop will print numbers 1, 2,\n",
    "4, and 5. The \"Loop ended\" message will be printed after the loop finishes.\n"
   ]
  },
  {
   "cell_type": "code",
   "execution_count": 51,
   "id": "bcfaf99e-9483-4221-a7fc-70784bfa1ebb",
   "metadata": {},
   "outputs": [
    {
     "name": "stdout",
     "output_type": "stream",
     "text": [
      "1\n",
      "2\n",
      "4\n",
      "Loop finished normally\n"
     ]
    }
   ],
   "source": [
    "# Using Continue and Break\n",
    "numbers = [1, 2, 3, 4, 5]\n",
    "for num in numbers:\n",
    " if num == 3:\n",
    "    continue # Skip printing 3\n",
    " elif num == 5:\n",
    "    break # Exit the loop when 5 is encountered\n",
    " print(num)\n",
    "print(\"Loop finished normally\")"
   ]
  },
  {
   "cell_type": "markdown",
   "id": "7f3d1ed8-db99-4e92-9f18-be7ea5b0b6af",
   "metadata": {},
   "source": [
    "### Strings In Python (part-1)\n",
    "In Python, a string is a sequence of characters enclosed within either single (' '), double (\" \"),\n",
    "or triple (''' ' ''', \"\"\" \"\"\" or ''' '''') quotes. Strings are used to represent text data and are one of\n",
    "the fundamental data types in Python\n",
    "Strings are sequence of Characters\n",
    "In Python specifically, strings are a sequence of Unicode Characters\n",
    "Immutable: Strings in Python are immutable, meaning once you create a string, you\n",
    "cannot change its content. You can create new strings based on the original string, but\n",
    "the original string remains unchanged.\n"
   ]
  },
  {
   "cell_type": "code",
   "execution_count": 52,
   "id": "eaaef2e6-e84d-4101-91d4-5e1fedaa3be7",
   "metadata": {},
   "outputs": [
    {
     "name": "stdout",
     "output_type": "stream",
     "text": [
      "Hello World\n"
     ]
    }
   ],
   "source": [
    "# create string with the help of single quotes\n",
    "s = 'Hello World'\n",
    "print(s)"
   ]
  },
  {
   "cell_type": "markdown",
   "id": "6acd149e-421a-4a33-b964-6f7b2e67b542",
   "metadata": {},
   "source": [
    "when we use single and double quotes?\n",
    "-> In Python, you can create strings using both single quotes (') and double quotes (\"), and\n",
    "they are functionally equivalent. The choice between using single or double quotes mainly\n",
    "depends on your personal preference or specific coding style guidelines.\n",
    "If your string contains a quotation mark character (either a single quote or double quote),\n",
    "you can use the other type of quote to define the string without escaping the inner quotes.\n",
    "This can make your code more readable:\n"
   ]
  },
  {
   "cell_type": "code",
   "execution_count": 53,
   "id": "1c413dd9-57aa-458b-874b-c960e7457ce9",
   "metadata": {},
   "outputs": [
    {
     "name": "stdout",
     "output_type": "stream",
     "text": [
      "He said, \"Hello!\"\n",
      "He said, 'Hello!'\n"
     ]
    }
   ],
   "source": [
    "single_quoted_string = 'He said, \"Hello!\"'\n",
    "double_quoted_string = \"He said, 'Hello!'\"\n",
    "# here we use single and double quotes\n",
    "print(single_quoted_string)\n",
    "print(double_quoted_string)"
   ]
  },
  {
   "cell_type": "code",
   "execution_count": 54,
   "id": "d76de22c-f287-4168-999b-639f17e425b2",
   "metadata": {},
   "outputs": [
    {
     "name": "stdout",
     "output_type": "stream",
     "text": [
      "hello\n"
     ]
    }
   ],
   "source": [
    "# multiline strings\n",
    "s = '''hello'''\n",
    "s = \"\"\"hello\"\"\"\n",
    "s = str('hello')\n",
    "print(s)"
   ]
  },
  {
   "cell_type": "markdown",
   "id": "39fd2f3e-1ae6-47fe-ab12-cf231ea7700c",
   "metadata": {},
   "source": [
    "2. Accessing Substrings from a String\n",
    "Indexing\n",
    "Indexing in Python refers to the process of accessing individual elements or characters\n",
    "within a sequence, such as a string. Strings in Python are sequences of characters, and you\n",
    "can access specific characters in a string using indexing. Indexing is done using square\n",
    "brackets [ ], and Python uses a zero-based indexing system, meaning the first element has\n",
    "an index of 0, the second element has an index of 1, and so on.\n",
    "we have two types of Indexing:\n",
    "1. Positive indexing\n",
    "2. Negative Indexing"
   ]
  },
  {
   "cell_type": "code",
   "execution_count": 55,
   "id": "9d867264-52a9-4ccf-a57b-6666e8627f53",
   "metadata": {},
   "outputs": [
    {
     "name": "stdout",
     "output_type": "stream",
     "text": [
      "H\n",
      "e\n"
     ]
    }
   ],
   "source": [
    "s = \"Hello World\"\n",
    "# Accessing individual characters using positive indexing\n",
    "print(s[0]) # Accesses the first character, 'H'\n",
    "print(s[1]) # Accesses the second character, 'e'"
   ]
  },
  {
   "cell_type": "code",
   "execution_count": 56,
   "id": "ed4d5475-1c51-43ee-8e98-8b8eeef4e200",
   "metadata": {},
   "outputs": [
    {
     "name": "stdout",
     "output_type": "stream",
     "text": [
      "d\n",
      "l\n"
     ]
    }
   ],
   "source": [
    "# Accessing individual characters using negative indexing (counting from the end)\n",
    "print(s[-1]) # Accesses the last character, 'd'\n",
    "print(s[-2]) # Accesses the second-to-last character, 'l'\n"
   ]
  },
  {
   "cell_type": "markdown",
   "id": "bd2067a3-e8c4-474c-88e5-74911b66b7ff",
   "metadata": {},
   "source": [
    "Slicing\n",
    "In Python, slicing is a technique used to extract a portion of a string, list, or any other\n",
    "sequence-like data structure. When it comes to strings, slicing allows you to create a new\n",
    "string by specifying a range of indices to extract a substring from the original string.\n",
    "\r\n",
    "# string[start:end]string: The original string you want to slice.\r\n",
    "start: The index from which the slicing begins (inclusive).\r\n",
    "end: The index at which the slicing ends (exclusive)\r"
   ]
  },
  {
   "cell_type": "code",
   "execution_count": 57,
   "id": "682fa0f1-3cce-4838-8c65-71b55fa5203e",
   "metadata": {},
   "outputs": [
    {
     "name": "stdout",
     "output_type": "stream",
     "text": [
      "ello\n",
      "hello \n",
      "ello world\n",
      "hello world\n",
      "worl\n"
     ]
    }
   ],
   "source": [
    "s = 'hello world'\n",
    "print(s[1:5]) # from 1 index that is e to 4 index=o\n",
    "print(s[:6]) # from 0 to 5\n",
    "print(s[1:]) # from 1 to all\n",
    "print(s[:]) # all string\n",
    "print(s[-5:-1]) # with negative slicing"
   ]
  },
  {
   "cell_type": "code",
   "execution_count": 58,
   "id": "d48787da-9215-4c96-af01-4c26f3646fb6",
   "metadata": {},
   "outputs": [
    {
     "name": "stdout",
     "output_type": "stream",
     "text": [
      "wol\n",
      "dlrow olleh\n"
     ]
    }
   ],
   "source": [
    "\n",
    "# we use step function in slicing\n",
    "s = 'hello world'\n",
    "print(s[6:0:-2])\n",
    "print(s[::-1])\n"
   ]
  },
  {
   "cell_type": "code",
   "execution_count": 59,
   "id": "41f33e47-59cd-413a-ace0-f0b3f50d9c1c",
   "metadata": {},
   "outputs": [
    {
     "ename": "TypeError",
     "evalue": "'str' object does not support item assignment",
     "output_type": "error",
     "traceback": [
      "\u001b[1;31m---------------------------------------------------------------------------\u001b[0m",
      "\u001b[1;31mTypeError\u001b[0m                                 Traceback (most recent call last)",
      "Cell \u001b[1;32mIn[59], line 3\u001b[0m\n\u001b[0;32m      1\u001b[0m \u001b[38;5;66;03m#3. Editing and Deleting in Strings\u001b[39;00m\n\u001b[0;32m      2\u001b[0m s \u001b[38;5;241m=\u001b[39m \u001b[38;5;124m'\u001b[39m\u001b[38;5;124mhello world\u001b[39m\u001b[38;5;124m'\u001b[39m\n\u001b[1;32m----> 3\u001b[0m \u001b[43ms\u001b[49m\u001b[43m[\u001b[49m\u001b[38;5;241;43m0\u001b[39;49m\u001b[43m]\u001b[49m \u001b[38;5;241m=\u001b[39m \u001b[38;5;124m'\u001b[39m\u001b[38;5;124mH\u001b[39m\u001b[38;5;124m'\u001b[39m\n\u001b[0;32m      4\u001b[0m \u001b[38;5;66;03m# it throws error\u001b[39;00m\n\u001b[0;32m      5\u001b[0m \u001b[38;5;66;03m# Python strings are immutable\u001b[39;00m\n",
      "\u001b[1;31mTypeError\u001b[0m: 'str' object does not support item assignment"
     ]
    }
   ],
   "source": [
    "#3. Editing and Deleting in Strings\n",
    "s = 'hello world'\n",
    "s[0] = 'H'\n",
    "# it throws error\n",
    "# Python strings are immutable"
   ]
  },
  {
   "cell_type": "markdown",
   "id": "c78518f5-7790-4771-a4a6-f9a59bd97328",
   "metadata": {},
   "source": [
    "Immutable: Strings in Python are immutable, meaning once you create a string, you cannot\n",
    "change its content. You can create new strings based on the original string, but the original\n",
    "string remains unchanged.\n"
   ]
  },
  {
   "cell_type": "markdown",
   "id": "ea0bb09e-a7f1-4f96-abf7-2a8d98380cec",
   "metadata": {},
   "source": [
    "Strings In Python (part-2)\r\n",
    "operations on strings\r\n",
    "In Python, strings are sequences of characters and are very versatile. You can perform a wide\r\n",
    "range of operations on strings, including but not limited to:\r\n",
    "1. Concatenation\r\n",
    "You can concatenate (combine) two or more strings using the '+' operator:\r"
   ]
  },
  {
   "cell_type": "code",
   "execution_count": 60,
   "id": "39ea9282-b087-4cfb-ad0f-5883a59b20c3",
   "metadata": {},
   "outputs": [
    {
     "name": "stdout",
     "output_type": "stream",
     "text": [
      "Helloworld\n",
      "Hello world\n"
     ]
    }
   ],
   "source": [
    "# Arithmatic opertion in string\n",
    "a = 'Hello'\n",
    "b = 'world'\n",
    "print(a + b)\n",
    "# if we want space\n",
    "print(a + \" \" + b)\n"
   ]
  },
  {
   "cell_type": "code",
   "execution_count": 61,
   "id": "9fe5e2db-89fe-4409-8802-5e709787f603",
   "metadata": {},
   "outputs": [
    {
     "name": "stdout",
     "output_type": "stream",
     "text": [
      "delhidelhidelhidelhidelhidelhidelhidelhidelhidelhidelhidelhidelhidelhi\n"
     ]
    }
   ],
   "source": [
    "# how to print delhi 14 times\n",
    "print(\"delhi\"*14)"
   ]
  },
  {
   "cell_type": "markdown",
   "id": "88c01182-0a45-4600-b4a2-3b0018c78971",
   "metadata": {},
   "source": [
    "2. Indexing and Slicing\n",
    "You can access individual characters of a string using indexing, and you can extract\n",
    "substrings using slicing"
   ]
  },
  {
   "cell_type": "code",
   "execution_count": 62,
   "id": "0263c20d-59cd-4402-be1d-82a0deb3a953",
   "metadata": {},
   "outputs": [
    {
     "data": {
      "text/plain": [
       "'o wor'"
      ]
     },
     "execution_count": 62,
     "metadata": {},
     "output_type": "execute_result"
    }
   ],
   "source": [
    "s = \"Hello world\"\n",
    "s[3] # it slice one word from the string\n",
    "s[4:9]"
   ]
  },
  {
   "cell_type": "markdown",
   "id": "b80728af-9ac8-4c8f-bd0d-c2e099015e12",
   "metadata": {},
   "source": [
    "3. String Methods\n",
    "Python provides many built-in string methods for common operations like converting to\n",
    "uppercase, lowercase, finding substrings, replacing, and more"
   ]
  },
  {
   "cell_type": "code",
   "execution_count": 63,
   "id": "aaa7c4f7-308b-4817-b227-4523b61ca36e",
   "metadata": {},
   "outputs": [
    {
     "name": "stdout",
     "output_type": "stream",
     "text": [
      "HELLO, WORLD!\n"
     ]
    }
   ],
   "source": [
    "text = \"Hello, World!\"\n",
    "uppercase_text = text.upper() # Convert to uppercase\n",
    "print(uppercase_text)\n"
   ]
  },
  {
   "cell_type": "code",
   "execution_count": 64,
   "id": "1d480878-c1c5-478d-9039-8e4be62774a0",
   "metadata": {},
   "outputs": [
    {
     "name": "stdout",
     "output_type": "stream",
     "text": [
      "hello, world!\n"
     ]
    }
   ],
   "source": [
    "lowercase_text = text.lower() # Convert to lowercase\n",
    "print(lowercase_text)"
   ]
  },
  {
   "cell_type": "code",
   "execution_count": 65,
   "id": "2fbcf3dc-965d-4322-b212-d19618b63ae7",
   "metadata": {},
   "outputs": [
    {
     "name": "stdout",
     "output_type": "stream",
     "text": [
      "7\n"
     ]
    }
   ],
   "source": [
    "\n",
    "index = text.find(\"World\") # Find the index of a substring\n",
    "print(index)\n"
   ]
  },
  {
   "cell_type": "code",
   "execution_count": 66,
   "id": "3e1c2bcf-bafc-47a9-8248-05705abccdb1",
   "metadata": {},
   "outputs": [
    {
     "name": "stdout",
     "output_type": "stream",
     "text": [
      "Hi, World!\n"
     ]
    }
   ],
   "source": [
    "new_text = text.replace(\"Hello\", \"Hi\") # Replace a substring\n",
    "print(new_text)\n"
   ]
  },
  {
   "cell_type": "code",
   "execution_count": 67,
   "id": "1c0c2d8c-431e-46ac-8b8d-4359c166591e",
   "metadata": {},
   "outputs": [
    {
     "data": {
      "text/plain": [
       "'Hi my name is nitish and I am a male'"
      ]
     },
     "execution_count": 67,
     "metadata": {},
     "output_type": "execute_result"
    }
   ],
   "source": [
    "#String Formatting\n",
    "#You can format strings using f-strings or the str.format() method\n",
    "name = 'nitish'\n",
    "gender = 'male'\n",
    "'Hi my name is {} and I am a {}'.format(name,gender)"
   ]
  },
  {
   "cell_type": "markdown",
   "id": "2fef4648-0985-4665-98e6-43e3267e7127",
   "metadata": {},
   "source": [
    "String Splitting and Joining\n",
    "You can split a string into a list of substrings using the split() method and join a list of strings\n",
    "into one string using the join() method"
   ]
  },
  {
   "cell_type": "code",
   "execution_count": 68,
   "id": "35475222-22b9-45a5-86c5-efd596b1fa73",
   "metadata": {},
   "outputs": [
    {
     "data": {
      "text/plain": [
       "['hi', 'my', 'name', 'is', 'KHAN']"
      ]
     },
     "execution_count": 68,
     "metadata": {},
     "output_type": "execute_result"
    }
   ],
   "source": [
    "'hi my name is KHAN '.split()\n"
   ]
  },
  {
   "cell_type": "code",
   "execution_count": 69,
   "id": "6cb05e7d-85f3-4933-8a3c-f158476e537f",
   "metadata": {},
   "outputs": [
    {
     "data": {
      "text/plain": [
       "'hi my name is KHAN'"
      ]
     },
     "execution_count": 69,
     "metadata": {},
     "output_type": "execute_result"
    }
   ],
   "source": [
    "\n",
    "\" \".join(['hi', 'my', 'name', 'is', 'KHAN'])\n"
   ]
  },
  {
   "cell_type": "markdown",
   "id": "3cd0a962-d8f7-4714-be24-1d9105e4b528",
   "metadata": {},
   "source": [
    "String Length\n",
    "You can find the length of a string using the len() function\n"
   ]
  },
  {
   "cell_type": "code",
   "execution_count": 70,
   "id": "ac2aaa60-4230-4db5-85ff-b184302f09ea",
   "metadata": {},
   "outputs": [
    {
     "name": "stdout",
     "output_type": "stream",
     "text": [
      "13\n"
     ]
    }
   ],
   "source": [
    "text = \"Hello, World!\"\n",
    "length = len(text) # Returns the length of the string (13 in this case)\n",
    "print(length)\n"
   ]
  },
  {
   "cell_type": "code",
   "execution_count": 71,
   "id": "91045003-a68f-4b12-9c26-a93910066cf6",
   "metadata": {},
   "outputs": [
    {
     "data": {
      "text/plain": [
       "'hey'"
      ]
     },
     "execution_count": 71,
     "metadata": {},
     "output_type": "execute_result"
    }
   ],
   "source": [
    "'hey                  '.strip() # it drop the Unwanted space prenet"
   ]
  },
  {
   "cell_type": "markdown",
   "id": "a6343a12-33e6-4334-acce-64026b95ff4f",
   "metadata": {},
   "source": [
    "### Interview Question Based on BasicsOperators-If-else-loops-and-Strings-InPYTHON\r\n",
    "1. What is Python? What are the benefits of using Python?\r\n",
    "Python is a high-level, interpreted, general-purpose programming language. Being a\r\n",
    "general-purpose language, it can be used to build almost any type of application with\r\n",
    "the right tools/libraries. Additionally, python supports objects, modules, threads,\r\n",
    "exception-handling, and automatic memory management which help in modelling realworld problems and building applications to solve these problems.\r\n",
    "Benefits of using Python:\r\n",
    "Python is a general-purpose programming language that has a simple, easy-to-learn\r\n",
    "syntax that emphasizes readability and therefore reduces the cost of program\r\n",
    "maintenance. Moreover, the language is capable of scripting, is completely opensource, and supports third-party packages encouraging modularity and code reuse.\r\n",
    "Its high-level data structures, combined with dynamic typing and dynamic binding,\r\n",
    "attract a huge community of developers for Rapid Application Development and\r\n",
    "deployment.\r\n",
    "2. What is Python, and why is it often called a \"high-level\"\r\n",
    "programming language?\r\n",
    "Python is a high-level programming language known for its simplicity and readability. It\r\n",
    "is called \"high-level\" because it abstracts low-level details and provides a more humanreadable syntax, making it easier to write and understand code.\r\n",
    "3. What is an Interpreted language?\r\n",
    "An Interpreted language executes its statements line by line. Languages such as Python,\r\n",
    "Javascript, R, PHP, and Ruby are prime examples of Interpreted languages. Programs\r\n",
    "written in an interpreted language runs directly from the source code, with no\r\n",
    "intermediary compilation step.\r\n",
    "4. What is PEP 8 and why is it important?\r\n",
    "PEP stands for Python Enhancement Proposal. A PEP is an official design document\r\n",
    "providing information to the Python community, or describing a new feature for Python\r\n",
    "or its processes. PEP 8 is especially important since it documents the style guidelines for\r\n",
    "Python Code. Apparently contributing to the Python open-source community requires\r\n",
    "you to follow these style guideli\n",
    "5. What are the common built-in data types in Python?\r\n",
    "Python provides several built-in data types to represent different kinds of data. Some of the\r\n",
    "common built-in data types in Python include:\r\n",
    "1. int: This data type is used to represent integers, both positive and negative whole\r\n",
    "numbers. For example, x = 5 or y = -10 .\r\n",
    "2. float: Floats are used to represent floating-point numbers, which include decimal\r\n",
    "points. For example, pi = 3.14159 or value = 2.5 .\r\n",
    "3. str: Strings are used to represent sequences of characters, such as text. They can be\r\n",
    "enclosed in single quotes (' '), double quotes (\" \"), or triple quotes for multi-line strings.\r\n",
    "For example, name = \"Alice\" or sentence = 'Hello, World!' .\r\n",
    "4. bool: Booleans represent either True or False . They are used for logical operations\r\n",
    "and comparisons. For example, is_true = True or is_false = False .\r\n",
    "5. list: Lists are ordered collections of items. They can contain elements of different data\r\n",
    "types, and the elements can be changed (mutable). For example, my_list = [1, 2,\r\n",
    "'three', True] .\r\n",
    "6. tuple: Tuples are similar to lists but are immutable, meaning their elements cannot be\r\n",
    "changed after creation. They are often used to represent fixed collections of items. For\r\n",
    "example, my_tuple = (1, 2, 'three') .\r\n",
    "7. dict (dictionary): Dictionaries are collections of key-value pairs, where each key is\r\n",
    "unique. They are used to store and retrieve data using keys. For example, person =\r\n",
    "{'name': 'John', 'age': 30} .\r\n",
    "8. set: Sets are unordered collections of unique elements. They are used for tasks like\r\n",
    "removing duplicates or checking for membership. For example, my_set = {1, 2,\r\n",
    "3} .\r\n",
    "9. NoneType: The None type represents the absence of a value or a null value. It is often\r\n",
    "used to indicate that a variable or result has no meaningful value assigned to it.\r\n",
    "10. complex: Complex numbers represent numbers with both real and imaginary parts.\r\n",
    "They are written as a + bj , where a is the real part, and b is the imaginary part.\r\n",
    "For example, z = 3 + 4j .\r\n",
    "11. bytes and bytearray: These data types are used to represent sequences of bytes, often\r\n",
    "used for binary data or working with file I/O.\r\n",
    "12. range: The range type is used to generate a sequence of numbers, commonly us\n",
    "13. datetime: The datetime data type is used to represent dates and times and provides\r\n",
    "functionality for working with dates and times.\r\n",
    "6. Explain the difference between '==' and '!=' operators in\r\n",
    "Python.\r\n",
    "'==' is used for equality comparison and returns True if two values are equal.\r\n",
    "'!=' is used for inequality comparison and returns True if two values are not equal.\r\n",
    "7. Identity operator (is) vs ==?\r\n",
    "Here’s the main difference between python “==” vs “is:”\r\n",
    "Identity operators: The “is” and “is not” keywords are called identity operators that\r\n",
    "compare objects based on their identity. Equality operator: The “==” and “!=” are called\r\n",
    "equality operators that compare the objects based on their values.\r\n",
    "8. Modules vs packages vs Library\r\n",
    "Python uses some terms that you may not be familiar with if you’re coming from a different\r\n",
    "language. Among these are modules, packages, and libraries.\r\n",
    "A module is a Python file that’s intended to be imported into scripts or other modules.\r\n",
    "It often defines members like classes, functions, and variables intended to be used in\r\n",
    "other files that import it.\r\n",
    "A package is a collection of related modules that work together to provide certain\r\n",
    "functionality. These modules are contained within a folder and can be imported just like\r\n",
    "any other modules. This folder will often contain a special init file that tells Python it’s a\r\n",
    "package, potentially containing more modules nested within subfolders\r\n",
    "A library is an umbrella term that loosely means “a bundle of code.” These can have\r\n",
    "tens or even hundreds of individual modules that can provide a wide range of\r\n",
    "functionality. Matplotlib is a plotting library. The Python Standard Library contains\r\n",
    "hundreds of modules for performing common tasks, like sending emails or reading\r\n",
    "JSON data. What’s special about the Standard Library is that it comes bundled with your\r\n",
    "installation of Python, so you can use its modules without having to download them\r\n",
    "from anywhere.\r\n",
    "9. How do you use the 'if' statement in Python, and what is\r\n",
    "the purpose of 'elif' and 'else'?\r\n",
    "The 'if' statement is used for conditional execution. 'elif' (short for \"else if\") is used to\r\n",
    "test multiple conditions, and 'else' is used to specify code that should be executed\r\n",
    "when the 'if' or 'elif' conditions are not met.\r\n",
    "10. What is the purpose of a 'for' loop\n",
    "A 'for' loop is used for iterating over a sequence (such as a list, tuple, or string) or other\r\n",
    "iterable objects. It repeatedly executes a block of code for each item in the sequence.\r\n",
    "11. How can you check if a substring exists within a given\r\n",
    "string in Python?\r\n",
    "You can use the 'in' operator to check if a substring exists within a string for exam\n",
    "A 'for' loop is used for iterating over a sequence (such as a list, tuple, or string) or other\r\n",
    "iterable objects. It repeatedly executes a block of code for each item in the sequence.\r\n",
    "11. How can you check if a substring exists within a given\r\n",
    "string in Python?\r\n",
    "You can use the 'in' operator to check if a substring exists within a string for example:ple: in Python, and how\r\n",
    "does it work?ed in\r\n",
    "for loops and iterations.nes sincerely and strictly."
   ]
  },
  {
   "cell_type": "code",
   "execution_count": 72,
   "id": "330fcd27-9825-4f22-b5bd-87046dc878a7",
   "metadata": {},
   "outputs": [
    {
     "name": "stdout",
     "output_type": "stream",
     "text": [
      "Substring 'is' found\n"
     ]
    }
   ],
   "source": [
    "text = \"Python is great\"\n",
    "if \"is\" in text:\n",
    " print(\"Substring 'is' found\")"
   ]
  },
  {
   "cell_type": "markdown",
   "id": "89b3c2a5-05b8-487b-bcdd-aa1e83275bd8",
   "metadata": {},
   "source": [
    "### List in Python \n",
    "What are Lists?\n",
    "List is a data type where you can store multiple items under 1 name. More technically, lists\n",
    "act like dynamic arrays which means you can add more items on the fly.\n",
    "Alt text\n",
    "Characterstics of a List:\n",
    "Ordered\n",
    "Changeble/Mutable\n",
    "Hetrogeneous\n",
    "Can have duplicates\n",
    "are dynamic\n",
    "can be nested\n",
    "items can be accessed\n",
    "can contain any kind of objects in python\n",
    "Creating a List"
   ]
  },
  {
   "cell_type": "code",
   "execution_count": 73,
   "id": "7a10c85a-03fb-4c2d-a08c-841065b75dc6",
   "metadata": {},
   "outputs": [
    {
     "name": "stdout",
     "output_type": "stream",
     "text": [
      "[]\n",
      "[1, 2, 3, 4, 5]\n",
      "[1, 2, 3, [4, 5]]\n",
      "[[[1, 2], [3, 4]]]\n",
      "[1, True, 5.6, (5+6j), 'Hello']\n",
      "['h', 'e', 'l', 'l', 'o']\n"
     ]
    }
   ],
   "source": [
    "# Empty\n",
    "print([])\n",
    "# 1D -> Homo\n",
    "print([1,2,3,4,5])\n",
    "# 2D\n",
    "print([1,2,3,[4,5]])\n",
    "# 3D\n",
    "print([[[1,2],[3,4]]])\n",
    "# Heterogenous\n",
    "print([1,True,5.6,5+6j,'Hello'])\n",
    "# Using Type conversion\n",
    "print(list('hello'))"
   ]
  },
  {
   "cell_type": "markdown",
   "id": "110e6009-b1bf-44c9-8d97-0700566615a0",
   "metadata": {},
   "source": [
    "Accessing Items from a List\n",
    "Indexing\n",
    "Slicing\n"
   ]
  },
  {
   "cell_type": "code",
   "execution_count": 74,
   "id": "6528f3d6-ec00-43a2-8ff9-6d842b0440db",
   "metadata": {},
   "outputs": [
    {
     "name": "stdout",
     "output_type": "stream",
     "text": [
      "[2, 3, 4]\n",
      "2\n",
      "6\n"
     ]
    }
   ],
   "source": [
    "# indexing\n",
    "L = [[[1,2],[3,4]],[[5,6],[7,8]]]\n",
    "L1 = [1,2,3,4]\n",
    "# Positive Indexing\n",
    "print(L1[1:4])\n",
    "print(L[0][0][1]) # for 2\n",
    "#How to extract 6\n",
    "print(L[1][0][1])"
   ]
  },
  {
   "cell_type": "code",
   "execution_count": 75,
   "id": "c2c23148-a9a2-4ace-b872-193a6e2c1379",
   "metadata": {},
   "outputs": [
    {
     "name": "stdout",
     "output_type": "stream",
     "text": [
      "[[5, 6], [7, 8]]\n",
      "8\n"
     ]
    }
   ],
   "source": [
    "# Negative indexing\n",
    "L = [[[1,2],[3,4]],[[5,6],[7,8]]]\n",
    "L1 = [1,2,3,4]\n",
    "print(L[-1])\n",
    "# how to extract 8 with negative\n",
    "print(L[-1][-1][-1])"
   ]
  },
  {
   "cell_type": "code",
   "execution_count": 76,
   "id": "ae113e88-0e71-410f-9248-a934d691a958",
   "metadata": {},
   "outputs": [
    {
     "name": "stdout",
     "output_type": "stream",
     "text": [
      "[6, 5, 4, 3, 2, 1]\n"
     ]
    }
   ],
   "source": [
    "# Slicing\n",
    "L = [1,2,3,4,5,6]\n",
    "print(L[::-1])\n"
   ]
  },
  {
   "cell_type": "code",
   "execution_count": 77,
   "id": "0ef9c033-7085-4ed0-9fb9-06176f32c16c",
   "metadata": {},
   "outputs": [
    {
     "name": "stdout",
     "output_type": "stream",
     "text": [
      "[1, 2, 3, 4, 5, True]\n"
     ]
    }
   ],
   "source": [
    "# Apend -> The append method is used to add an item to the end of a list.\n",
    "L = [1,2,3,4,5]\n",
    "L.append(True)\n",
    "print(L)\n"
   ]
  },
  {
   "cell_type": "code",
   "execution_count": 78,
   "id": "cc06d6f2-8b6b-414b-a877-111a32c599bb",
   "metadata": {},
   "outputs": [
    {
     "data": {
      "text/plain": [
       "[1, 2, 3, 4, 5, 2]"
      ]
     },
     "execution_count": 78,
     "metadata": {},
     "output_type": "execute_result"
    }
   ],
   "source": [
    "# Extend -> The extend method is used to append elements from an iterable (e.g., an\n",
    "L = [1,2,3,4,5]\n",
    "L.extend([2])\n",
    "L"
   ]
  },
  {
   "cell_type": "code",
   "execution_count": 79,
   "id": "a8d33c41-c1c0-4f63-b0a2-3ffb943f67f1",
   "metadata": {},
   "outputs": [
    {
     "name": "stdout",
     "output_type": "stream",
     "text": [
      "[1, 100, 2, 3, 4]\n"
     ]
    }
   ],
   "source": [
    "# insert -> The insert method allows you to add an item at a specific position in t\n",
    "l = [1,2,3,4]\n",
    "l.insert(1,100)\n",
    "print(l)"
   ]
  },
  {
   "cell_type": "code",
   "execution_count": 80,
   "id": "26bd6c59-d79d-4392-a238-814d456c3653",
   "metadata": {},
   "outputs": [
    {
     "name": "stdout",
     "output_type": "stream",
     "text": [
      "[1, 2, 3, 4, 5, 300]\n",
      "[1, 200, 300, 400, 5, 300]\n"
     ]
    }
   ],
   "source": [
    "l = [1,2,3,4,5,6]\n",
    "# editing with indexing\n",
    "l[-1] = 300\n",
    "print(l)\n",
    "# editong with slicing\n",
    "l[1:4] = [200,300,400]\n",
    "print(l)"
   ]
  },
  {
   "cell_type": "code",
   "execution_count": 81,
   "id": "7143ddb9-a8c1-45bd-bd92-388d579fff02",
   "metadata": {},
   "outputs": [
    {
     "name": "stdout",
     "output_type": "stream",
     "text": [
      "[1, 2, 4, 5]\n",
      "[1, 2]\n"
     ]
    }
   ],
   "source": [
    "# del -> The del statement is used to remove an item from a list based on its index\n",
    "l = [1,2,3,4,5]\n",
    "#indexing\n",
    "del l[2]\n",
    "print(l)\n",
    "# slicing\n",
    "del l[2:4]\n",
    "print(l)\n"
   ]
  },
  {
   "cell_type": "code",
   "execution_count": 82,
   "id": "18619c1c-c574-44c5-ab76-ab37cc4a3257",
   "metadata": {},
   "outputs": [
    {
     "name": "stdout",
     "output_type": "stream",
     "text": [
      "[1, 3]\n"
     ]
    }
   ],
   "source": [
    "# remove -> The remove method is used to remove the first occurrence of a specific\n",
    "l = [1,2,3]\n",
    "l.remove(2)\n",
    "print(l)"
   ]
  },
  {
   "cell_type": "code",
   "execution_count": 83,
   "id": "08252e74-fd25-4c27-be97-b25ff25d495a",
   "metadata": {},
   "outputs": [
    {
     "name": "stdout",
     "output_type": "stream",
     "text": [
      "[1, 2, 3, 4]\n"
     ]
    }
   ],
   "source": [
    "\n",
    "# pop -> The pop method is used to remove and return an item from the list based on\n",
    "# If you don't provide an index, it will remove and return the last item by default\n",
    "L = [1,2,3,4,5]\n",
    "L.pop()\n",
    "print(L)\n"
   ]
  },
  {
   "cell_type": "code",
   "execution_count": 84,
   "id": "03e545ab-b601-4dea-a7d1-dd8484b758dc",
   "metadata": {},
   "outputs": [
    {
     "name": "stdout",
     "output_type": "stream",
     "text": [
      "[]\n"
     ]
    }
   ],
   "source": [
    "# clear -> The clear method is used to remove all items from the list, effectively\n",
    "L = [1,2,3,4,5]\n",
    "L.clear()\n",
    "print(L)"
   ]
  },
  {
   "cell_type": "markdown",
   "id": "7e7ce5c7-6df5-4486-b4fb-29d1b52e224d",
   "metadata": {},
   "source": [
    "List in Python \n",
    "Operations on Lists:\n",
    "There are three types of Opeartion in the List:\n",
    "1. Arithmetic\n",
    "2. Membership\n",
    "3. Loop\n"
   ]
  },
  {
   "cell_type": "code",
   "execution_count": 86,
   "id": "b1f182f0-a597-4513-83e8-88aa01dac809",
   "metadata": {},
   "outputs": [
    {
     "name": "stdout",
     "output_type": "stream",
     "text": [
      "[1, 2, 3, 4, 5, 9, 8, 7, 6, 5]\n",
      "[1, 2, 3, 4, 5, 1, 2, 3, 4, 5, 1, 2, 3, 4, 5]\n",
      "[9, 8, 7, 6, 5, 9, 8, 7, 6, 5, 9, 8, 7, 6, 5, 9, 8, 7, 6, 5]\n"
     ]
    }
   ],
   "source": [
    "\n",
    "# Arithmatic opeartion (+, *)\n",
    "L1 = [1,2,3,4,5]\n",
    "L2 = [9,8,7,6,5]\n",
    "# concatenation/Merge\n",
    "print(L1 + L2)\n",
    "print(L1*3)\n",
    "print(L2*4)"
   ]
  },
  {
   "cell_type": "code",
   "execution_count": 87,
   "id": "913f73d3-039d-47d8-831f-cb69b1a71319",
   "metadata": {},
   "outputs": [
    {
     "name": "stdout",
     "output_type": "stream",
     "text": [
      "False\n",
      "True\n"
     ]
    }
   ],
   "source": [
    "# membership\n",
    "L1 = [1,2,3,4,5]\n",
    "L2 = [1,2,3,4,[5,6]]\n",
    "print(5 not in L1)\n",
    "print([5,6] in L2)"
   ]
  },
  {
   "cell_type": "code",
   "execution_count": 88,
   "id": "42bbb643-2dfe-4340-8076-952c48a39519",
   "metadata": {},
   "outputs": [
    {
     "name": "stdout",
     "output_type": "stream",
     "text": [
      "1\n",
      "2\n",
      "3\n",
      "4\n",
      "[5, 6]\n"
     ]
    }
   ],
   "source": [
    "\n",
    "# loops\n",
    "L1 = [1,2,3,4,5]\n",
    "L2 = [1,2,3,4,[5,6]]\n",
    "L3 = [[[1,2],[3,4]],[[5,6],[7,8]]]\n",
    "for i in L2:\n",
    " print(i)\n"
   ]
  },
  {
   "cell_type": "code",
   "execution_count": 89,
   "id": "4b9a9ddb-d601-4b74-9c90-db66c64c0b7c",
   "metadata": {},
   "outputs": [
    {
     "name": "stdout",
     "output_type": "stream",
     "text": [
      "5\n",
      "7\n",
      "0\n",
      "[0, 1, 2, 5, 7]\n"
     ]
    }
   ],
   "source": [
    "# len/min/max/sorted\n",
    "L = [2,1,5,7,0]\n",
    "print(len(L))\n",
    "print(max(L))\n",
    "print(min(L))\n",
    "print(sorted(L))"
   ]
  },
  {
   "cell_type": "code",
   "execution_count": 90,
   "id": "d4e7f235-a447-4a62-ae1e-5c61df1b71f9",
   "metadata": {},
   "outputs": [
    {
     "data": {
      "text/plain": [
       "1"
      ]
     },
     "execution_count": 90,
     "metadata": {},
     "output_type": "execute_result"
    }
   ],
   "source": [
    "# count\n",
    "l = [1,2,3,456,67867]\n",
    "l.count(456)\n"
   ]
  },
  {
   "cell_type": "code",
   "execution_count": 92,
   "id": "8b3b1128-cdde-4830-8d96-fe748eb06728",
   "metadata": {},
   "outputs": [
    {
     "data": {
      "text/plain": [
       "1"
      ]
     },
     "execution_count": 92,
     "metadata": {},
     "output_type": "execute_result"
    }
   ],
   "source": [
    "\n",
    "# index\n",
    "l = [3,5,7,9,3,23]\n",
    "l.index(5)\n"
   ]
  },
  {
   "cell_type": "code",
   "execution_count": 93,
   "id": "25565488-8c52-41cb-9cda-1bfa6a55a03c",
   "metadata": {},
   "outputs": [
    {
     "name": "stdout",
     "output_type": "stream",
     "text": [
      "[78, 6, 4, 3, 2, 1]\n"
     ]
    }
   ],
   "source": [
    "# reverse\n",
    "l = [1,2,3,4,6,78]\n",
    "l.reverse()\n",
    "print(l)"
   ]
  },
  {
   "cell_type": "code",
   "execution_count": 94,
   "id": "62623b7e-d076-428a-84cd-dc26a181091a",
   "metadata": {},
   "outputs": [
    {
     "name": "stdout",
     "output_type": "stream",
     "text": [
      "[2, 1, 5, 7, 0]\n",
      "[0, 1, 2, 5, 7]\n",
      "[2, 1, 5, 7, 0]\n",
      "[0, 1, 2, 5, 7]\n"
     ]
    }
   ],
   "source": [
    "# sort vs sorted\n",
    "L = [2,1,5,7,0]\n",
    "print(L)\n",
    "print(sorted(L))\n",
    "print(L)\n",
    "L.sort()\n",
    "print(L)"
   ]
  },
  {
   "cell_type": "markdown",
   "id": "01416674-a014-4677-ba00-98b9b82334f1",
   "metadata": {},
   "source": [
    "If you want to sort a list in-place, you should use the sort method. If you want to create a\n",
    "new sorted list without modifying the original list, you should use the sorted function"
   ]
  },
  {
   "cell_type": "markdown",
   "id": "53fc4b21-a65c-4738-8897-2fd8724fd04c",
   "metadata": {},
   "source": [
    "### List Comprehension\n",
    "List Comprehension provides a concise way of creating lists.\n",
    "newlist = [expression for item in iterable if condition == True]\n",
    "Advantages of List Comprehension\n",
    "More time-efficient and space-efficient than loops.\n",
    "Require fewer lines of code.\n",
    "Transforms iterative statement into a formula.\n"
   ]
  },
  {
   "cell_type": "code",
   "execution_count": 95,
   "id": "ecd9918f-c81d-433e-b764-1551843d52eb",
   "metadata": {},
   "outputs": [
    {
     "name": "stdout",
     "output_type": "stream",
     "text": [
      "[1, 2, 3, 4, 5, 6, 7, 8, 9, 10]\n"
     ]
    }
   ],
   "source": [
    "\n",
    "# Add 1 to 10 numbers to the list\n",
    "# if we use for loop\n",
    "L=[]\n",
    "for i in range(1,11):\n",
    " L.append(i)\n",
    "\n",
    "print(L)\n"
   ]
  },
  {
   "cell_type": "code",
   "execution_count": 97,
   "id": "2b238b46-ef82-41e0-9ae2-3c821500fe4a",
   "metadata": {},
   "outputs": [
    {
     "name": "stdout",
     "output_type": "stream",
     "text": [
      "[1, 2, 3, 4, 5, 6, 7, 8, 9, 10]\n"
     ]
    }
   ],
   "source": [
    "\n",
    "# By List Comprehension\n",
    "L = [i for i in range(1,11)]\n",
    "print(L)\n"
   ]
  },
  {
   "cell_type": "code",
   "execution_count": 98,
   "id": "3d51b298-2682-4144-bd07-bc1cf2c243c9",
   "metadata": {},
   "outputs": [
    {
     "data": {
      "text/plain": [
       "[4, 9, 16, 25, 36]"
      ]
     },
     "execution_count": 98,
     "metadata": {},
     "output_type": "execute_result"
    }
   ],
   "source": [
    "\n",
    "# Add sqaures\n",
    "L = [2,3,4,5,6]\n",
    "[i**2 for i in L]"
   ]
  },
  {
   "cell_type": "code",
   "execution_count": 99,
   "id": "a17b631a-0883-452e-9e33-fc4535c4459b",
   "metadata": {},
   "outputs": [
    {
     "data": {
      "text/plain": [
       "[5, 10, 15, 20, 25, 30, 35, 40, 45, 50]"
      ]
     },
     "execution_count": 99,
     "metadata": {},
     "output_type": "execute_result"
    }
   ],
   "source": [
    "# Print all numbers divisible by 5 in the range of 1 to 50\n",
    "[i for i in range(1,51) if i%5 == 0]\n"
   ]
  },
  {
   "cell_type": "markdown",
   "id": "0d0e8520-e2eb-4e41-b47e-6396a1076fed",
   "metadata": {},
   "source": [
    "Disadvantages of Python Lists\n",
    "Slow\n",
    "Risky usage\n",
    "eats up more memory"
   ]
  },
  {
   "cell_type": "code",
   "execution_count": 100,
   "id": "7ae50e94-3a41-4ccc-9b59-2e40e0675dc3",
   "metadata": {},
   "outputs": [
    {
     "name": "stdout",
     "output_type": "stream",
     "text": [
      "[1, 2, 3]\n",
      "[1, 2, 3]\n",
      "[1, 2, 3, 4]\n",
      "[1, 2, 3]\n"
     ]
    }
   ],
   "source": [
    "a = [1,2,3]\n",
    "b = a.copy()\n",
    "print(a)\n",
    "print(b)\n",
    "a.append(4)\n",
    "print(a)\n",
    "print(b)\n",
    "# lists are mutable"
   ]
  },
  {
   "cell_type": "markdown",
   "id": "99c9bb71-0158-482f-98df-680260b33cf0",
   "metadata": {},
   "source": [
    "Tuples In Python\n",
    "A tuple in Python is an immutable, ordered collection of elements. It is similar to a list in that\n",
    "it can store a variety of data types, including numbers, strings, and other objects, but unlike\n",
    "lists, tuples cannot be modified once they are created.\n",
    "This immutability means that you can't add, remove, or change elements within a tuple after\n",
    "it's been defined.\n",
    "Characterstics\n",
    "Ordered\n",
    "Unchangeble\n",
    "Allows duplicate\n",
    "Creating Tuples\n"
   ]
  },
  {
   "cell_type": "code",
   "execution_count": 101,
   "id": "a7a94d0e-9913-4549-bfe8-7d62a0eadaa5",
   "metadata": {},
   "outputs": [
    {
     "name": "stdout",
     "output_type": "stream",
     "text": [
      "()\n",
      "('hello',)\n",
      "<class 'tuple'>\n",
      "(1, 2, 3, 4, 5)\n",
      "(1, 2.5, True, [1, 2, 3])\n",
      "(1, 2, 3, (4, 5))\n",
      "('h', 'e', 'l', 'l', 'o')\n"
     ]
    }
   ],
   "source": [
    "# How to create empty tuple\n",
    "t1 =()\n",
    "print(t1)\n",
    "# creating tuple with single item\n",
    "t2 = ('hello',)\n",
    "print(t2)\n",
    "print(type(t2))\n",
    "# homo\n",
    "t3 = (1,2,3,4,5)\n",
    "print(t3)\n",
    "# hetero\n",
    "t4 = (1,2.5,True,[1,2,3])\n",
    "print(t4)\n",
    "# tuple\n",
    "t5 = (1,2,3,(4,5))\n",
    "print(t5)\n",
    "# using type conversion\n",
    "t6 = tuple('hello')\n",
    "print(t6)"
   ]
  },
  {
   "cell_type": "markdown",
   "id": "dc11e7c5-119e-4097-97ec-8e22144fa04d",
   "metadata": {},
   "source": [
    "Accessing items in Tuples\n",
    "Indexing\n",
    "Slicing "
   ]
  },
  {
   "cell_type": "code",
   "execution_count": 102,
   "id": "e69258cf-cd57-4f86-b560-ffa46763f3d4",
   "metadata": {},
   "outputs": [
    {
     "name": "stdout",
     "output_type": "stream",
     "text": [
      "4\n",
      "(3, 4, 5)\n"
     ]
    }
   ],
   "source": [
    "# extract 4 from the tuple\n",
    "print(t3[3])\n",
    "# extract 3,4,5\n",
    "print(t3[2:])\n"
   ]
  },
  {
   "cell_type": "code",
   "execution_count": 103,
   "id": "1c6d348d-26c9-4d9e-b7f4-5cd7cb592e8e",
   "metadata": {},
   "outputs": [
    {
     "name": "stdout",
     "output_type": "stream",
     "text": [
      "(1, 2, 3, (4, 5))\n"
     ]
    },
    {
     "data": {
      "text/plain": [
       "4"
      ]
     },
     "execution_count": 103,
     "metadata": {},
     "output_type": "execute_result"
    }
   ],
   "source": [
    "print(t5)\n",
    "t5[-1][0]"
   ]
  },
  {
   "cell_type": "code",
   "execution_count": null,
   "id": "25e80d15-a7d1-4e98-9720-c5fb738e23a2",
   "metadata": {},
   "outputs": [],
   "source": [
    "Editing items in tuple/Deleting in tuple\n",
    "Tuple are immutable like string it cannot change or Delete"
   ]
  },
  {
   "cell_type": "code",
   "execution_count": 104,
   "id": "536443e0-1c36-4a06-8514-8f6cb2d44e7b",
   "metadata": {},
   "outputs": [
    {
     "name": "stdout",
     "output_type": "stream",
     "text": [
      "(1, 2, 3, (4, 5))\n"
     ]
    },
    {
     "ename": "TypeError",
     "evalue": "'tuple' object doesn't support item deletion",
     "output_type": "error",
     "traceback": [
      "\u001b[1;31m---------------------------------------------------------------------------\u001b[0m",
      "\u001b[1;31mTypeError\u001b[0m                                 Traceback (most recent call last)",
      "Cell \u001b[1;32mIn[104], line 2\u001b[0m\n\u001b[0;32m      1\u001b[0m \u001b[38;5;28mprint\u001b[39m(t5)\n\u001b[1;32m----> 2\u001b[0m \u001b[38;5;28;01mdel\u001b[39;00m t5[\u001b[38;5;241m-\u001b[39m\u001b[38;5;241m1\u001b[39m]\n",
      "\u001b[1;31mTypeError\u001b[0m: 'tuple' object doesn't support item deletion"
     ]
    }
   ],
   "source": [
    "print(t5)\n",
    "del t5[-1]\n"
   ]
  },
  {
   "cell_type": "code",
   "execution_count": 107,
   "id": "74a9ee0a-cc5c-4dde-9e68-f582cacf4b08",
   "metadata": {},
   "outputs": [
    {
     "name": "stdout",
     "output_type": "stream",
     "text": [
      "(1, 2, 3, 4, 5, 6, 7, 8)\n",
      "True\n",
      "1\n",
      "2\n",
      "3\n",
      "4\n",
      "5\n"
     ]
    }
   ],
   "source": [
    "# + and *\n",
    "t1 = (1,2,3,4)\n",
    "t2 = (5,6,7,8)\n",
    "print(t1 + t2)\n",
    "# membership\n",
    "print(1 in t1)\n",
    "# iteration/loops\n",
    "for i in t3:\n",
    " print(i)"
   ]
  },
  {
   "cell_type": "code",
   "execution_count": 106,
   "id": "782cf93f-e18a-4603-8d06-5920e2409b59",
   "metadata": {},
   "outputs": [
    {
     "name": "stdout",
     "output_type": "stream",
     "text": [
      "5\n",
      "15\n",
      "1\n",
      "5\n",
      "[1, 2, 3, 4, 5]\n"
     ]
    }
   ],
   "source": [
    "\n",
    "# len/sum/min/max/sorted\n",
    "t = (1,2,3,4,5)\n",
    "print(len(t))\n",
    "print(sum(t))\n",
    "print(min(t))\n",
    "print(max(t))\n",
    "print(sorted(t))\n"
   ]
  },
  {
   "cell_type": "code",
   "execution_count": 108,
   "id": "25250f75-fda7-4a23-8c30-142cb747e175",
   "metadata": {},
   "outputs": [
    {
     "data": {
      "text/plain": [
       "1"
      ]
     },
     "execution_count": 108,
     "metadata": {},
     "output_type": "execute_result"
    }
   ],
   "source": [
    "# count\n",
    "t = (1,2,3,4,5)\n",
    "t.count(3)\n"
   ]
  },
  {
   "cell_type": "code",
   "execution_count": 109,
   "id": "9da37819-830e-4089-bed3-5fa0fbe4fb03",
   "metadata": {},
   "outputs": [
    {
     "data": {
      "text/plain": [
       "1"
      ]
     },
     "execution_count": 109,
     "metadata": {},
     "output_type": "execute_result"
    }
   ],
   "source": [
    "# index\n",
    "t = (4,64567,3454,11,33,55)\n",
    "t.index(64567)"
   ]
  },
  {
   "cell_type": "code",
   "execution_count": 110,
   "id": "7ef1ab23-1034-482f-b230-419a1d65ebbb",
   "metadata": {},
   "outputs": [
    {
     "name": "stdout",
     "output_type": "stream",
     "text": [
      "1 2 3\n"
     ]
    }
   ],
   "source": [
    "# tuple unpacking\n",
    "a,b,c = (1,2,3)\n",
    "print(a,b,c)"
   ]
  },
  {
   "cell_type": "code",
   "execution_count": 111,
   "id": "c24bc936-a164-43b4-89ad-e6f327f772d6",
   "metadata": {},
   "outputs": [
    {
     "name": "stdout",
     "output_type": "stream",
     "text": [
      "2 1\n"
     ]
    }
   ],
   "source": [
    "a = 1\n",
    "b = 2\n",
    "a,b = b,a\n",
    "print(a,b)"
   ]
  },
  {
   "cell_type": "code",
   "execution_count": 112,
   "id": "d154d0c0-2104-44ad-875a-274a56036e7a",
   "metadata": {},
   "outputs": [
    {
     "name": "stdout",
     "output_type": "stream",
     "text": [
      "1 2\n",
      "[3, 4]\n"
     ]
    }
   ],
   "source": [
    "a,b,*others = (1,2,3,4)\n",
    "print(a,b)\n",
    "print(others)\n"
   ]
  },
  {
   "cell_type": "code",
   "execution_count": 113,
   "id": "f57568b7-39f5-443a-9bcb-7b5838ef67ad",
   "metadata": {},
   "outputs": [
    {
     "data": {
      "text/plain": [
       "((1, 5), (2, 6), (3, 7), (4, 8))"
      ]
     },
     "execution_count": 113,
     "metadata": {},
     "output_type": "execute_result"
    }
   ],
   "source": [
    "# zipping tuples\n",
    "a = (1,2,3,4)\n",
    "b = (5,6,7,8)\n",
    "tuple(zip(a,b))\n"
   ]
  },
  {
   "cell_type": "markdown",
   "id": "8fb9b7c0-2706-4a50-9c54-aed8538855e2",
   "metadata": {},
   "source": [
    "Difference between Lists and Tuples\r\n",
    "Lists and tuples are both data structures in Python, but they have several differences in\r\n",
    "terms of syntax, mutability, speed, memory usage, built-in functionality, error-proneness,\r\n",
    "and usability. Let's compare them in these aspects:\r\n",
    "1. Syntax:\r\n",
    "Lists are defined using square brackets [ ] , e.g., my_list = [1, 2, 3] .\r\n",
    "Tuples are defined using parentheses ( ) , e.g., my_tuple = (1, 2, 3) .\r\n",
    "2. Mutability:\r\n",
    "Lists are mutable, which means you can change their elements after creation using\r\n",
    "methods like append() , insert() , or direct assignment.\r\n",
    "Tuples are immutable, which means once created, you cannot change their\r\n",
    "elements. You would need to create a new tuple if you want to modify its contents.\r\n",
    "3. Speed:\r\n",
    "Lists are slightly slower than tuples in terms of performance because they are\r\n",
    "mutable. Modifying a list may involve resizing or copying elements, which can\r\n",
    "introduce overhead.\r\n",
    "Tuples, being immutable, are generally faster for accessing elements because they\r\n",
    "are more memory-efficient and do not require resizing or copying.\r\n",
    "4. Memory:\r\n",
    "Lists consume more memory than tuples due to their mutability. Lists require extra\r\n",
    "memory to accommodate potential resizing and other internal bookkeeping.\r\n",
    "Tuples are more memory-efficient since they don't have the overhead associated\r\n",
    "with mutable data structures.\r\n",
    "5. Built-in Functionality:\r\n",
    "Both lists and tuples have common operations like indexing, slicing, and iteration.\r\n",
    "Lists offer more built-in methods for manipulation, such as append() ,\r\n",
    "insert() , remove() , and extend() . Lists are better suited for situations\r\n",
    "where you need to add or remove elements frequently.\r\n",
    "Tuples have a more limited set of operations due to their immutability but offer\r\n",
    "security against accidental moLists are more error-prone when it comes to accidental modification, especially in\r\n",
    "large codebases, as they can be changed throughout the code.\r\n",
    "Tuples are less error-prone since they cannot be modified once created, making\r\n",
    "them more predictable.\r\n",
    "7. Usability:\r\n",
    "Lists are typically used when you need a collection of items that can change over\r\n",
    "time. They are suitable for situations where you want to add, remove, or modify\r\n",
    "elements.\r\n",
    "Tuples are used when you want to create a collection of items that should not\r\n",
    "change during the program's execution. They provide safety and immutability.\r\n",
    "In summary, the choice between lists and tuples depends on your specific needs. Use lists\r\n",
    "when you require mutability and dynamic resizing, and use tuples when you want to ensure\r\n",
    "immutability and need a more memory-efficient, error-resistant data structure.difications.\r\n",
    "6. Error-Prone:\r"
   ]
  },
  {
   "cell_type": "markdown",
   "id": "3064f6e5-3f7d-4162-a64a-579c5dfc1dde",
   "metadata": {},
   "source": [
    "Sets In Python\n",
    "In Python, a set is an unordered collection of unique elements. Sets are used to store\n",
    "multiple items, but unlike lists and tuples, they do not allow duplicate values. The elements\n",
    "in a set are enclosed in curly braces '{}' and separated by commas.\n",
    "Characterstics:\n",
    "Unordered\n",
    "Mutable\n",
    "No Duplicates\n",
    "Can't contain mutable data types\n",
    "Creating Sets"
   ]
  },
  {
   "cell_type": "code",
   "execution_count": 114,
   "id": "8152b1f8-5f76-4ba9-917c-0acad7c3aeb9",
   "metadata": {},
   "outputs": [
    {
     "name": "stdout",
     "output_type": "stream",
     "text": [
      "set()\n",
      "<class 'set'>\n",
      "{1, 2, 3}\n",
      "{3, 1, (4, 5), 2}\n",
      "{'hello', 1, (1, 2, 3), 4.5}\n",
      "{1, 2, 3}\n",
      "{1, 2, 3}\n"
     ]
    }
   ],
   "source": [
    "# empty set\n",
    "s = set()\n",
    "print(s)\n",
    "print(type(s))\n",
    "# 1D and 2D\n",
    "s1 = {1,2,3}\n",
    "print(s1)\n",
    "s2 = {1,2,3,(4,5)}\n",
    "print(s2)\n",
    "# Homo and hetro\n",
    "s3 = {1,'hello',4.5,(1,2,3)}\n",
    "print(s3)\n",
    "# using type conversion\n",
    "s4 = set([1,2,3])\n",
    "print(s4)\n",
    "#duplicated not allowed\n",
    "s5 = {1,1,2,2,3}\n",
    "print(s5)\n"
   ]
  },
  {
   "cell_type": "code",
   "execution_count": 115,
   "id": "2368506e-7044-4529-a219-2a46c656fffe",
   "metadata": {},
   "outputs": [
    {
     "name": "stdout",
     "output_type": "stream",
     "text": [
      "True\n"
     ]
    }
   ],
   "source": [
    "# True or false\n",
    "s1 = {1,2,3}\n",
    "s2 = {3,2,1}\n",
    "print(s1 == s2)"
   ]
  },
  {
   "cell_type": "markdown",
   "id": "2b6da126-1089-408e-8de4-7ed668ac5543",
   "metadata": {},
   "source": [
    "Accessing Items\n",
    "In Python sets, you cannot access items by indexing or slicing because sets are\n",
    "unordered collections of unique elements, and they do not have a specific order like\n",
    "lists or tuples. Therefore, indexing and slicing operations, which are common with\n",
    "ordered sequences like lists and strings, are not applicable to sets.\n",
    "Adding Items"
   ]
  },
  {
   "cell_type": "code",
   "execution_count": 116,
   "id": "ec47edfa-1648-4eb7-b583-5680939484a2",
   "metadata": {},
   "outputs": [
    {
     "name": "stdout",
     "output_type": "stream",
     "text": [
      "{1, 2, 3, 4, 5}\n"
     ]
    }
   ],
   "source": [
    "#add\n",
    "s = {1,2,3,4,5}\n",
    "s.add(5)\n",
    "print(s)\n"
   ]
  },
  {
   "cell_type": "code",
   "execution_count": 117,
   "id": "1025dede-6899-41b8-83a5-cb9a1dbf16d6",
   "metadata": {},
   "outputs": [
    {
     "name": "stdout",
     "output_type": "stream",
     "text": [
      "{1, 2, 3, 4, 5, 6, 7}\n"
     ]
    }
   ],
   "source": [
    "#update\n",
    "s.update([5,6,7])\n",
    "print(s)\n"
   ]
  },
  {
   "cell_type": "code",
   "execution_count": 118,
   "id": "ced53591-9ce1-49a4-acd1-1607234fc650",
   "metadata": {},
   "outputs": [],
   "source": [
    "# del\n",
    "s= {1,2,3,4,5}\n",
    "del(s)\n",
    "# it complete delete set"
   ]
  },
  {
   "cell_type": "code",
   "execution_count": 119,
   "id": "02fda26b-0604-4ce6-9f39-6f181d73a996",
   "metadata": {},
   "outputs": [
    {
     "name": "stdout",
     "output_type": "stream",
     "text": [
      "{1, 2, 3}\n"
     ]
    }
   ],
   "source": [
    "#remove\n",
    "s = {1,2,3,4}\n",
    "s.remove(4)\n",
    "print(s)\n"
   ]
  },
  {
   "cell_type": "code",
   "execution_count": 120,
   "id": "03860998-8aba-41f4-9db5-c4cade7a4ca2",
   "metadata": {},
   "outputs": [
    {
     "data": {
      "text/plain": [
       "1"
      ]
     },
     "execution_count": 120,
     "metadata": {},
     "output_type": "execute_result"
    }
   ],
   "source": [
    "# pop\n",
    "s.pop()\n",
    "# it select random number from set\n"
   ]
  },
  {
   "cell_type": "code",
   "execution_count": null,
   "id": "724a4de3-f439-45bd-9143-7993656d4145",
   "metadata": {},
   "outputs": [],
   "source": [
    "# clear\n",
    "s.clear()\n",
    "print(s)"
   ]
  },
  {
   "cell_type": "code",
   "execution_count": 121,
   "id": "06d18d71-dcbc-47fe-8615-89bb8ee8da07",
   "metadata": {},
   "outputs": [
    {
     "name": "stdout",
     "output_type": "stream",
     "text": [
      "{1, 2, 3, 4, 5, 6, 7, 8}\n",
      "{4, 5}\n",
      "{1, 2, 3}\n",
      "{8, 6, 7}\n",
      "{1, 2, 3, 6, 7, 8}\n",
      "True\n",
      "False\n",
      "1\n",
      "2\n",
      "3\n",
      "4\n",
      "5\n"
     ]
    }
   ],
   "source": [
    "s1 = {1,2,3,4,5}\n",
    "s2 = {4,5,6,7,8}\n",
    "# union\n",
    "print(s1 | s2)\n",
    "# intersection\n",
    "print(s1 & s2)\n",
    "# Differences\n",
    "print(s1 - s2)\n",
    "print(s2 - s1)\n",
    "# symmetric diffrences\n",
    "print(s1 ^ s2)\n",
    "# membership test\n",
    "print(1 in s1)\n",
    "print(1 not in s1)\n",
    "# iteration\n",
    "for i in s1:\n",
    " print(i)\n"
   ]
  },
  {
   "cell_type": "code",
   "execution_count": 122,
   "id": "eda9548b-9b78-4e5e-90ef-970488751adf",
   "metadata": {},
   "outputs": [
    {
     "name": "stdout",
     "output_type": "stream",
     "text": [
      "6\n",
      "22\n",
      "1\n",
      "7\n",
      "[1, 2, 3, 4, 5, 7]\n"
     ]
    }
   ],
   "source": [
    "# len/sum/min/max/sorted\n",
    "s = {3,1,4,5,2,7}\n",
    "print(len(s))\n",
    "print(sum(s))\n",
    "print(min(s))\n",
    "print(max(s))\n",
    "print(sorted(s))"
   ]
  },
  {
   "cell_type": "code",
   "execution_count": 123,
   "id": "83239734-b9d7-461d-8368-e560906c787e",
   "metadata": {},
   "outputs": [
    {
     "name": "stdout",
     "output_type": "stream",
     "text": [
      "{1, 2, 3, 4, 5, 6, 7, 8}\n",
      "{4, 5, 6, 7, 8}\n"
     ]
    }
   ],
   "source": [
    "# union/update\n",
    "s1 = {1,2,3,4,5}\n",
    "s2 = {4,5,6,7,8}\n",
    "# s1 | s2\n",
    "s1.union(s1)\n",
    "s1.update(s2)\n",
    "print(s1)\n",
    "print(s2)\n"
   ]
  },
  {
   "cell_type": "code",
   "execution_count": 124,
   "id": "312ec49c-2a7d-43f9-93b1-41194a2ccd28",
   "metadata": {},
   "outputs": [
    {
     "name": "stdout",
     "output_type": "stream",
     "text": [
      "{4, 5}\n",
      "{4, 5, 6, 7, 8}\n"
     ]
    }
   ],
   "source": [
    "# intersection/intersection_update\n",
    "s1 = {1,2,3,4,5}\n",
    "s2 = {4,5,6,7,8}\n",
    "s1.intersection(s2)\n",
    "s1.intersection_update(s2)\n",
    "print(s1)\n",
    "print(s2)\n"
   ]
  },
  {
   "cell_type": "code",
   "execution_count": 125,
   "id": "dd7ee175-435f-4e81-af5f-071c50f73fab",
   "metadata": {},
   "outputs": [
    {
     "name": "stdout",
     "output_type": "stream",
     "text": [
      "{1, 2, 3}\n",
      "{4, 5, 6, 7, 8}\n"
     ]
    }
   ],
   "source": [
    "# difference/difference_update\n",
    "s1 = {1,2,3,4,5}\n",
    "s2 = {4,5,6,7,8}\n",
    "s1.difference(s2)\n",
    "s1.difference_update(s2)\n",
    "print(s1)\n",
    "print(s2)"
   ]
  },
  {
   "cell_type": "code",
   "execution_count": 126,
   "id": "56abeb20-04c3-43f3-82ec-5122eba34e8b",
   "metadata": {},
   "outputs": [
    {
     "name": "stdout",
     "output_type": "stream",
     "text": [
      "{1, 2, 3, 6, 7, 8}\n",
      "{4, 5, 6, 7, 8}\n"
     ]
    }
   ],
   "source": [
    "# symmetric_difference/symmetric_difference_update\n",
    "s1 = {1,2,3,4,5}\n",
    "s2 = {4,5,6,7,8}\n",
    "s1.symmetric_difference(s2)\n",
    "s1.symmetric_difference_update(s2)\n",
    "print(s1)\n",
    "print(s2)\n"
   ]
  },
  {
   "cell_type": "code",
   "execution_count": 127,
   "id": "68884a79-e6a6-4c8e-8f84-adb528cef7ea",
   "metadata": {},
   "outputs": [
    {
     "data": {
      "text/plain": [
       "True"
      ]
     },
     "execution_count": 127,
     "metadata": {},
     "output_type": "execute_result"
    }
   ],
   "source": [
    "# isdisjoint/issubset/issuperset\n",
    "s1 = {1,2,3,4}\n",
    "s2 = {7,8,5,6}\n",
    "s1.isdisjoint(s2)"
   ]
  },
  {
   "cell_type": "code",
   "execution_count": 128,
   "id": "2089d11a-2365-4226-85bd-94c5405a95d4",
   "metadata": {},
   "outputs": [
    {
     "data": {
      "text/plain": [
       "True"
      ]
     },
     "execution_count": 128,
     "metadata": {},
     "output_type": "execute_result"
    }
   ],
   "source": [
    "s1 = {1,2,3,4,5}\n",
    "s2 = {3,4,5}\n",
    "s1.issuperset(s2)"
   ]
  },
  {
   "cell_type": "code",
   "execution_count": 129,
   "id": "1b97b081-bc63-4d8a-978a-8846d614a7aa",
   "metadata": {},
   "outputs": [
    {
     "name": "stdout",
     "output_type": "stream",
     "text": [
      "{1, 2, 3}\n",
      "{1, 2, 3}\n"
     ]
    }
   ],
   "source": [
    "# copy\n",
    "s1 = {1,2,3}\n",
    "s2 = s1.copy()\n",
    "print(s1)\n",
    "print(s2)\n"
   ]
  },
  {
   "cell_type": "code",
   "execution_count": 130,
   "id": "16b91af7-fb23-436a-817d-bb6b5a76f464",
   "metadata": {},
   "outputs": [
    {
     "data": {
      "text/plain": [
       "frozenset({1, 2, 3, 4, 5})"
      ]
     },
     "execution_count": 130,
     "metadata": {},
     "output_type": "execute_result"
    }
   ],
   "source": [
    "# Frozenset\n",
    "# Frozen set is just an immutable version of a Python set object\n",
    "\n",
    "# create frozenset\n",
    "fs1 = frozenset([1,2,3])\n",
    "fs2 = frozenset([3,4,5])\n",
    "fs1 | fs2"
   ]
  },
  {
   "cell_type": "code",
   "execution_count": 131,
   "id": "924caced-e977-4c92-8b59-33d28e1b21ae",
   "metadata": {},
   "outputs": [
    {
     "data": {
      "text/plain": [
       "{36, 49, 64, 81, 100}"
      ]
     },
     "execution_count": 131,
     "metadata": {},
     "output_type": "execute_result"
    }
   ],
   "source": [
    "# Set Comprehension\n",
    "# examples\n",
    "{i**2 for i in range(1,11) if i>5}\n"
   ]
  },
  {
   "cell_type": "code",
   "execution_count": 132,
   "id": "e4b4cd51-fd3d-48b7-8f3a-9fcaa528dce0",
   "metadata": {},
   "outputs": [
    {
     "data": {
      "text/plain": [
       "{8, 9, 10, 11, 12}"
      ]
     },
     "execution_count": 132,
     "metadata": {},
     "output_type": "execute_result"
    }
   ],
   "source": [
    "{i+2 for i in range(1,11) if i>5}\n"
   ]
  },
  {
   "cell_type": "markdown",
   "id": "71ce8fe7-9dd3-4315-8840-94190b773f12",
   "metadata": {},
   "source": [
    "Dictionary In Python\r\n",
    "Dictionary in Python is a collection of keys values, used to store data values like a map,\r\n",
    "which, unlike other data types which hold only a single value as an element.\r\n",
    "In some languages it is known as map or assosiative arrays.\r\n",
    "dict = { 'name' : 'xyz' , 'age' : 24 , 'gender' : 'male' }\r\n",
    "Characterstics:\r\n",
    "Mutable\r\n",
    "Indexing has no meaning\r\n",
    "keys can't be duplicated\r\n",
    "keys can't be mutable items\r\n",
    "Create Dictionary\r"
   ]
  },
  {
   "cell_type": "code",
   "execution_count": 133,
   "id": "2dc0a89b-4169-44b7-a209-143255343e6c",
   "metadata": {},
   "outputs": [
    {
     "name": "stdout",
     "output_type": "stream",
     "text": [
      "{}\n",
      "{'name': 'xyz', 'Age': 23, 'gender': 'male'}\n",
      "{(2, 2, 3): 1, 'hello': 'world'}\n",
      "{'name': 'ramesh', 'college': 'bit', 'sem': 4, 'subjects': {'dsa': 50, 'maths': 67, 'english': 34}}\n",
      "{'name': 'xyz', 'age': 23, 3: 3}\n",
      "{'name': 'xyz', (1, 2, 3): 2}\n"
     ]
    }
   ],
   "source": [
    "# empty\n",
    "d = {}\n",
    "print(d)\n",
    "#1D\n",
    "d1 = {'name':'xyz', 'Age':23, 'gender':'male'}\n",
    "print(d1)\n",
    "# with mixed keys\n",
    "d2 = {(2,2,3):1,'hello':'world'}\n",
    "print(d2)\n",
    "# 2D dictionary\n",
    "s = {\n",
    " 'name':'ramesh',\n",
    " 'college':'bit',\n",
    " 'sem':4,\n",
    " 'subjects':{\n",
    " 'dsa':50,\n",
    " 'maths':67,\n",
    " 'english':34\n",
    " }\n",
    "}\n",
    "print(s)\n",
    "# using sequence and dict function\n",
    "d4 = dict([('name','xyz'),('age',23),(3,3)])\n",
    "print(d4)\n",
    "#mutable items keys\n",
    "d6 = {'name':'xyz', (1,2,3):2}\n",
    "print(d6)\n"
   ]
  },
  {
   "cell_type": "code",
   "execution_count": 134,
   "id": "cbc79bb4-3da4-41da-a0d5-2ed105a34305",
   "metadata": {},
   "outputs": [
    {
     "data": {
      "text/plain": [
       "'Jack'"
      ]
     },
     "execution_count": 134,
     "metadata": {},
     "output_type": "execute_result"
    }
   ],
   "source": [
    "my_dict = {'name': 'Jack', 'age': 26}\n",
    "my_dict['name'] # you have to write keys "
   ]
  },
  {
   "cell_type": "code",
   "execution_count": 135,
   "id": "8a4c0dbf-1b44-4ac7-8a3d-3ef3c52a75c9",
   "metadata": {},
   "outputs": [
    {
     "name": "stdout",
     "output_type": "stream",
     "text": [
      "{'name': 'xyz', 'age': 23, 3: 3}\n"
     ]
    }
   ],
   "source": [
    "print(d4)"
   ]
  },
  {
   "cell_type": "code",
   "execution_count": 136,
   "id": "ce7e606f-4137-4cd3-a0f1-385383b9f4fd",
   "metadata": {},
   "outputs": [
    {
     "name": "stdout",
     "output_type": "stream",
     "text": [
      "{'name': 'xyz', 'age': 23, 3: 3, 'gender': 'male'}\n",
      "{'name': 'xyz', 'age': 23, 3: 3, 'gender': 'male', 'weight': 70}\n"
     ]
    }
   ],
   "source": [
    "d4['gender'] = 'male'\n",
    "print(d4)\n",
    "d4['weight'] = 70\n",
    "print(d4)\n"
   ]
  },
  {
   "cell_type": "code",
   "execution_count": 137,
   "id": "7734e3fc-7011-42d9-b0c2-bb40d1e0e495",
   "metadata": {},
   "outputs": [
    {
     "name": "stdout",
     "output_type": "stream",
     "text": [
      "{'name': 'xyz', 'age': 24, 'gender': 'male', 'weight': 72}\n",
      "{'name': 'xyz', 'age': 24, 'gender': 'male'}\n",
      "{'age': 24, 'gender': 'male'}\n",
      "{}\n"
     ]
    }
   ],
   "source": [
    "\n",
    "d = {'name': 'xyz', 'age': 24, 3: 3, 'gender': 'male', 'weight': 72}\n",
    "# pop\n",
    "d.pop(3) # it remove three\n",
    "print(d)\n",
    "#popitems\n",
    "d.popitem() # it remove last item in the dictionary\n",
    "print(d)\n",
    "# del\n",
    "del d['name']\n",
    "print(d)\n",
    "#clear\n",
    "d.clear() # it clear dictionary\n",
    "print(d)\n"
   ]
  },
  {
   "cell_type": "code",
   "execution_count": 138,
   "id": "589fb1e4-a4e8-4222-8170-dda81853baed",
   "metadata": {},
   "outputs": [
    {
     "name": "stdout",
     "output_type": "stream",
     "text": [
      "{'name': 'ramesh', 'college': 'bit', 'sem': 4, 'subjects': {'dsa': 50, 'maths': 67, 'english': 34}}\n"
     ]
    }
   ],
   "source": [
    "print(s)"
   ]
  },
  {
   "cell_type": "code",
   "execution_count": 139,
   "id": "7eeb31e2-10d8-4e3b-ab3e-73741fb2069c",
   "metadata": {},
   "outputs": [
    {
     "data": {
      "text/plain": [
       "{'name': 'ramesh',\n",
       " 'college': 'bit',\n",
       " 'sem': 4,\n",
       " 'subjects': {'dsa': 80, 'maths': 67, 'english': 34}}"
      ]
     },
     "execution_count": 139,
     "metadata": {},
     "output_type": "execute_result"
    }
   ],
   "source": [
    "s['subjects']['dsa'] = 80\n",
    "s"
   ]
  },
  {
   "cell_type": "markdown",
   "id": "acfd39e9-8e83-4ea9-bb0f-620aa72e7bb5",
   "metadata": {},
   "source": [
    "Dictionary Operations\n",
    "Membership\n",
    "Iteration"
   ]
  },
  {
   "cell_type": "code",
   "execution_count": 140,
   "id": "4f04de68-80be-433f-9817-06c3e67a9736",
   "metadata": {},
   "outputs": [
    {
     "name": "stdout",
     "output_type": "stream",
     "text": [
      "{'name': 'ramesh', 'college': 'bit', 'sem': 4, 'subjects': {'dsa': 80, 'maths': 67, 'english': 34}}\n"
     ]
    }
   ],
   "source": [
    "print(s)"
   ]
  },
  {
   "cell_type": "code",
   "execution_count": 141,
   "id": "59f7915f-df42-4932-a075-8c34d39ea82e",
   "metadata": {},
   "outputs": [
    {
     "data": {
      "text/plain": [
       "True"
      ]
     },
     "execution_count": 141,
     "metadata": {},
     "output_type": "execute_result"
    }
   ],
   "source": [
    "# membership\n",
    "'name' in s"
   ]
  },
  {
   "cell_type": "code",
   "execution_count": 142,
   "id": "8680a64c-cdb0-4540-b8ba-ed1d60661e8c",
   "metadata": {},
   "outputs": [
    {
     "data": {
      "text/plain": [
       "False"
      ]
     },
     "execution_count": 142,
     "metadata": {},
     "output_type": "execute_result"
    }
   ],
   "source": [
    "'ramesh' in s # it use on it keys not on values"
   ]
  },
  {
   "cell_type": "code",
   "execution_count": 143,
   "id": "1385df8d-e3af-4547-8a11-115a7a387df7",
   "metadata": {},
   "outputs": [
    {
     "name": "stdout",
     "output_type": "stream",
     "text": [
      "name ramesh\n",
      "college bit\n",
      "sem 4\n",
      "subjects {'dsa': 80, 'maths': 67, 'english': 34}\n"
     ]
    }
   ],
   "source": [
    "# ITERATION\n",
    "for i in s:\n",
    " print(i,s[i])\n"
   ]
  },
  {
   "cell_type": "code",
   "execution_count": 144,
   "id": "4d10a7c9-1753-49d6-a0eb-c23bafd96a2a",
   "metadata": {},
   "outputs": [
    {
     "name": "stdout",
     "output_type": "stream",
     "text": [
      "{'name': 'ramesh', 'college': 'bit', 'sem': 4, 'subjects': {'dsa': 80, 'maths': 67, 'english': 34}}\n"
     ]
    }
   ],
   "source": [
    "print(s)"
   ]
  },
  {
   "cell_type": "code",
   "execution_count": 145,
   "id": "9ecaa2c6-c456-4d10-8d51-50a009f44523",
   "metadata": {},
   "outputs": [
    {
     "name": "stdout",
     "output_type": "stream",
     "text": [
      "4\n"
     ]
    },
    {
     "data": {
      "text/plain": [
       "['college', 'name', 'sem', 'subjects']"
      ]
     },
     "execution_count": 145,
     "metadata": {},
     "output_type": "execute_result"
    }
   ],
   "source": [
    "\n",
    "# len/sorted\n",
    "print(len(s))\n",
    "sorted(s)\n"
   ]
  },
  {
   "cell_type": "code",
   "execution_count": 146,
   "id": "02e06164-f2d9-4264-8953-5d4747888486",
   "metadata": {},
   "outputs": [
    {
     "name": "stdout",
     "output_type": "stream",
     "text": [
      "dict_items([('name', 'ramesh'), ('college', 'bit'), ('sem', 4), ('subjects', {'dsa': 80, 'maths': 67, 'english': 34})])\n",
      "dict_keys(['name', 'college', 'sem', 'subjects'])\n",
      "dict_values(['ramesh', 'bit', 4, {'dsa': 80, 'maths': 67, 'english': 34}])\n"
     ]
    }
   ],
   "source": [
    "\n",
    "# items/keys/values\n",
    "print(s.items())\n",
    "print(s.keys())\n",
    "print(s.values())\n"
   ]
  },
  {
   "cell_type": "code",
   "execution_count": 147,
   "id": "4e58104c-f735-4733-8519-d2247b4b108a",
   "metadata": {},
   "outputs": [
    {
     "data": {
      "text/plain": [
       "{1: 1, 2: 4, 3: 9, 4: 16, 5: 25, 6: 36, 7: 49, 8: 64, 9: 81, 10: 100}"
      ]
     },
     "execution_count": 147,
     "metadata": {},
     "output_type": "execute_result"
    }
   ],
   "source": [
    "# print 1st 10 numbers and their squares\n",
    "{i:i**2 for i in range(1,11)}\n"
   ]
  },
  {
   "cell_type": "code",
   "execution_count": 148,
   "id": "5cc2c2c0-e6f7-48c3-ad00-681e2796eeb9",
   "metadata": {},
   "outputs": [
    {
     "name": "stdout",
     "output_type": "stream",
     "text": [
      "dict_items([('delhi', 1000), ('mumbai', 2000), ('bangalore', 3000)])\n"
     ]
    }
   ],
   "source": [
    "distances = {'delhi':1000,'mumbai':2000,'bangalore':3000}\n",
    "print(distances.items())\n"
   ]
  },
  {
   "cell_type": "code",
   "execution_count": 149,
   "id": "bb3e0c05-466e-4c5d-ab97-78d90b6c6bbc",
   "metadata": {},
   "outputs": [
    {
     "data": {
      "text/plain": [
       "{'Sunday': 30.5,\n",
       " 'Monday': 32.6,\n",
       " 'Tuesday': 31.8,\n",
       " 'Wednesday': 33.4,\n",
       " 'Thursday': 29.8,\n",
       " 'Friday': 30.2,\n",
       " 'Saturday': 29.9}"
      ]
     },
     "execution_count": 149,
     "metadata": {},
     "output_type": "execute_result"
    }
   ],
   "source": [
    "\n",
    "# using zip\n",
    "days = [\"Sunday\", \"Monday\",\"Tuesday\",\"Wednesday\",\"Thursday\",\"Friday\",\"Saturday\"]\n",
    "temp_C = [30.5,32.6,31.8,33.4,29.8,30.2,29.9]\n",
    "{i:j for (i,j) in zip(days,temp_C)}\n"
   ]
  },
  {
   "cell_type": "code",
   "execution_count": 150,
   "id": "74f5f5b7-309f-4f0b-a6be-7415f02e3f4d",
   "metadata": {},
   "outputs": [
    {
     "data": {
      "text/plain": [
       "{'phone': 10, 'charger': 32}"
      ]
     },
     "execution_count": 150,
     "metadata": {},
     "output_type": "execute_result"
    }
   ],
   "source": [
    "# using if condition\n",
    "products = {'phone':10,'laptop':0,'charger':32,'tablet':0}\n",
    "{key:value for (key,value) in products.items() if value>0}"
   ]
  },
  {
   "cell_type": "code",
   "execution_count": 152,
   "id": "381d55ae-e974-4a72-83b2-5ab0948c2bda",
   "metadata": {},
   "outputs": [
    {
     "data": {
      "text/plain": [
       "{2: {1: 2, 2: 4, 3: 6, 4: 8, 5: 10, 6: 12, 7: 14, 8: 16, 9: 18, 10: 20},\n",
       " 3: {1: 3, 2: 6, 3: 9, 4: 12, 5: 15, 6: 18, 7: 21, 8: 24, 9: 27, 10: 30},\n",
       " 4: {1: 4, 2: 8, 3: 12, 4: 16, 5: 20, 6: 24, 7: 28, 8: 32, 9: 36, 10: 40}}"
      ]
     },
     "execution_count": 152,
     "metadata": {},
     "output_type": "execute_result"
    }
   ],
   "source": [
    "# Nested Comprehension\n",
    "# print tables of number from 2 to 4\n",
    "{i:{j:i*j for j in range(1,11)} for i in range(2,5)}"
   ]
  },
  {
   "cell_type": "markdown",
   "id": "388bcd19-b298-411d-a7f7-845906e1b3c4",
   "metadata": {},
   "source": [
    "OOP in Python\n",
    "(Object-Oriented Programming)\n",
    "Object-Oriented Programming (OOP) is a programming paradigm that uses objects to\n",
    "organize and structure code.\n",
    "Python is a multi-paradigm programming language, and it supports object-oriented\n",
    "programming.\n",
    "OOP is a powerful way to design and structure your code, making it more modular,\n",
    "reusable, and maintainable.\n",
    "In Python, everything is an object, and you can use OOP principles to create and\n",
    "manipulate these objects.\n",
    "OOPs Concepts in Python\n",
    "Class\n",
    "Objects\n",
    "Polymorphism\n",
    "Encapsulation\n",
    "Inheritance\n",
    "Data Abstraction\n",
    "1. Python Class\n",
    "A class is a collection of objects. A class contains the blueprints or the prototype from\n",
    "which the objects are being created. It is a logical entity that contains some attributes\n",
    "and methods.\n",
    "To understand the need for creating a class let’s consider an example, let’s say you wanted\n",
    "to track the number of dogs that may have different attributes like breed, and age. If a list is\n",
    "used, the first element could be the dog’s breed while the second element could represent\n",
    "its age. Let’s suppose there are 100 different dogs, then how would you know which\n",
    "element is supposed to be which? What if you wanted to add other properties to these\n",
    "dogs? This lacks organization and it’s the exact need for classes.\n",
    "Classes are created by keyword class.\n",
    "Attributes are the variables that belong to a class.\n",
    "Attributes are always public and can be accessed using the dot (.) operator. Eg.:\n",
    "Myclass.Myattribute"
   ]
  },
  {
   "cell_type": "code",
   "execution_count": null,
   "id": "5bee282d-4ea6-49d8-bec6-fef5deccb9df",
   "metadata": {},
   "outputs": [],
   "source": [
    "class ClassName:\n",
    " # Statement-1\n",
    "    .\n",
    " # Statement-N"
   ]
  },
  {
   "cell_type": "code",
   "execution_count": 154,
   "id": "d34e8db1-be51-490d-869a-9812ebf76c09",
   "metadata": {},
   "outputs": [],
   "source": [
    "# Python3 program to\n",
    "# demonstrate defining\n",
    "# a class\n",
    "class Dog:\n",
    " pass\n"
   ]
  },
  {
   "cell_type": "markdown",
   "id": "68d71f4f-ef85-4fb0-bffb-bfadf69828fc",
   "metadata": {},
   "source": [
    "2. Python Objects\r\n",
    "The object is an entity that has a state and behavior associated with it. It may be any\r\n",
    "real-world object like a mouse, keyboard, chair, table, pen, etc. Integers, strings,\r\n",
    "floating-point numbers, even arrays, and dictionaries, are all objects.\r\n",
    "More specifically, any single integer or any single string is an object. The number 12 is\r\n",
    "an object, the string “Hello, world” is an object, a list is an object that can hold other\r\n",
    "objects, and so on. You’ve been using objects all along and may not even realize it.\r"
   ]
  },
  {
   "cell_type": "code",
   "execution_count": 155,
   "id": "f9437d0d-f244-4e95-a337-08a60997e316",
   "metadata": {},
   "outputs": [],
   "source": [
    "\n",
    "obj = Dog()"
   ]
  },
  {
   "cell_type": "markdown",
   "id": "60451cbf-09d3-4794-afda-b7f7836c1dfa",
   "metadata": {},
   "source": [
    "The Python self\n",
    "When working with classes in Python, the term “self” refers to the instance of the class that\n",
    "is currently being used. It is customary to use “self” as the first parameter in instance\n",
    "methods of a class. Whenever you call a method of an object created from a class, the\n",
    "object is automatically passed as the first argument using the “self” parameter. This enables\n",
    "you to modify the object’s properties and execute tasks unique to that particular instance."
   ]
  },
  {
   "cell_type": "code",
   "execution_count": 158,
   "id": "b96c55f4-6def-4c8f-8b93-4ce0369a002e",
   "metadata": {},
   "outputs": [
    {
     "name": "stdout",
     "output_type": "stream",
     "text": [
      "17\n"
     ]
    }
   ],
   "source": [
    "\n",
    "class mynumber:\n",
    " def __init__(self, value):\n",
    "   self.value = value\n",
    "\n",
    " def print_value(self):\n",
    "  print(self.value)\n",
    "obj1 = mynumber(17)\n",
    "obj1.print_value()"
   ]
  },
  {
   "cell_type": "markdown",
   "id": "ccc13eb7-9238-4ee4-81e8-28f1f31e507d",
   "metadata": {},
   "source": [
    "Python Class self Constructor\n",
    "When working with classes, it’s important to understand that in Python, a class constructor is\n",
    "a special method named init that gets called when you create an instance (object) of a class.\n",
    "This method is used to initialize the attributes of the object. Keep in mind that the self\n",
    "parameter in the constructor refers to the instance being created and allows you to access and set its attributes. By following these guidelines, you can create powerful and efficient \n",
    "classes in Python."
   ]
  },
  {
   "cell_type": "code",
   "execution_count": 160,
   "id": "711ebfc8-851d-4725-8a50-3854fb09a8c7",
   "metadata": {},
   "outputs": [
    {
     "name": "stdout",
     "output_type": "stream",
     "text": [
      "Maths\n",
      "Science\n"
     ]
    }
   ],
   "source": [
    "# _init_\n",
    "class Subject:\n",
    " def __init__(self, attr1, attr2):\n",
    "     self.attr1 = attr1\n",
    "     self.attr2 = attr2\n",
    "obj = Subject('Maths', 'Science')\n",
    "print(obj.attr1)\n",
    "print(obj.attr2)\n"
   ]
  },
  {
   "cell_type": "markdown",
   "id": "0ec2c8c4-a810-442c-a291-1bf85a251a95",
   "metadata": {},
   "source": [
    "OOP in Python Part - 2\n",
    "What is Function and method in Python??\n",
    "In Python, functions and methods are both used to define blocks of reusable code, but they\n",
    "have some key differences:\n",
    "1. Function:\n",
    "A function is a block of organized, reusable code that performs a specific task.\n",
    "Functions in Python are defined using the def keyword, followed by a function name, a\n",
    "set of parameters in parentheses, a colon, and the function's code block.\n",
    "Functions can take input parameters (arguments) and return a value using the return\n",
    "statement. However, not all functions need to return a value.\n",
    "Functions can be called by their name, and they are usually defined at the module level\n",
    "(i.e., not inside a class or another function).\n",
    "2. Method:\n",
    "A method is similar to a function, but it is associated with an object or a class.\n",
    "Methods are defined within a class and are used to define the behaviors or actions that\n",
    "objects of that class can perform.\n",
    "Methods are called on instances of a class and typically operate on the data (attributes)\n",
    "of the instance.\n",
    "The first parameter of a method is usually named 'self', which refers to the instance on\n",
    "which the method is called.\n",
    "In summary, functions are standalone blocks of code, while methods are functions defined\n",
    "within a class and are associated with instances of that class. Methods often work with the\n",
    "data (attributes) of the instance, whereas functions can be called independently of any\n",
    "specific object or class.\n"
   ]
  },
  {
   "cell_type": "code",
   "execution_count": 162,
   "id": "1f5adbea-8de8-4d82-ab5f-b791752aeda0",
   "metadata": {},
   "outputs": [
    {
     "name": "stdout",
     "output_type": "stream",
     "text": [
      "Maths\n",
      "Science\n"
     ]
    }
   ],
   "source": [
    "# _init_\n",
    "class Subject:\n",
    " def __init__(self, attr1, attr2):\n",
    "     self.attr1 = attr1\n",
    "     self.attr2 = attr2\n",
    "obj = Subject('Maths', 'Science')\n",
    "print(obj.attr1)\n",
    "print(obj.attr2)"
   ]
  },
  {
   "cell_type": "markdown",
   "id": "79d5d686-660a-4e1c-af7a-6ad8ee275435",
   "metadata": {},
   "source": [
    "In Python, \"magic methods,\" also known as \"dunder methods\" (short for \"double underscore\n",
    "methods\"), are special methods that have double underscores at the beginning and end of\n",
    "their names, such as _ init , str , add _ , etc. These methods are also sometimes referred to as\n",
    "\"special methods\" or \"dunder methods\" because of their naming convention.\n",
    "Magic methods are used to define how objects of a class behave in various situations and\n",
    "allow you to customize the behavior of your custom classes. They are automatically invoked\n",
    "by the Python interpreter in response to specific operations or built-in functions.\n",
    "1. init :\n",
    "The _ init _ method in Python is like a special function that gets called when you create\n",
    "a new object from a class.\n",
    "It's often referred to as the \"constructor\" because it helps you set up, or \"initialize,\" the\n",
    "initial state of an object.\n",
    "Parameterized constructor -> It wants input while\n",
    "form an object"
   ]
  },
  {
   "cell_type": "code",
   "execution_count": 163,
   "id": "c23bc5b7-745f-4471-b82e-4fa16178eb51",
   "metadata": {},
   "outputs": [
    {
     "name": "stdout",
     "output_type": "stream",
     "text": [
      "<__main__.Person object at 0x000002868B0AA920>\n"
     ]
    }
   ],
   "source": [
    "class Person:\n",
    " def __init__(self, name, age):\n",
    "     self.name = name\n",
    "     self.age = age\n",
    "person1 = Person(\"Alice\", 30)\n",
    "person2 = Person(\"Bob\", 25)\n",
    "# person1 will have name set to \"Alice\" and age set to 30, while person2 will have\n",
    "print(person1)\n"
   ]
  },
  {
   "cell_type": "markdown",
   "id": "0efcc201-a611-4873-bea2-33b1109313bf",
   "metadata": {},
   "source": [
    "when we print person 1 then python don't know how to show Alice with age 30\r\n",
    "..python show only Memory location where it store\r\n",
    "so for we call str"
   ]
  },
  {
   "cell_type": "markdown",
   "id": "4734aef0-1461-4bae-b83e-6bb3caeffa10",
   "metadata": {},
   "source": [
    "2. str :\n",
    "The str method in Python is a special method (often called a \"magic method\" or\n",
    "\"dunder method\") that you can define in your custom classes to provide a humanreadable string representation of objects created from that class.\n",
    "This method is automatically called when you use the str() function or the print()\n",
    "function on an object.\n"
   ]
  },
  {
   "cell_type": "code",
   "execution_count": 164,
   "id": "032d830d-9876-4bb2-940e-be9586c7eb4f",
   "metadata": {},
   "outputs": [
    {
     "name": "stdout",
     "output_type": "stream",
     "text": [
      "Alice (30 years old)\n",
      "Alice (30 years old)\n"
     ]
    }
   ],
   "source": [
    "class Person:\n",
    " def __init__(self, name, age):\n",
    "     self.name = name\n",
    "     self.age = age\n",
    " def __str__(self):\n",
    "   return f\"{self.name} ({self.age} years old)\"\n",
    "# Create a Person object\n",
    "person = Person(\"Alice\", 30)\n",
    "# When you use str() or print(), Python calls __str__ automatically\n",
    "print(str(person)) # Output: \"Alice (30 years old)\"\n",
    "print(person) # Output: \"Alice (30 years old)\"\n"
   ]
  },
  {
   "cell_type": "markdown",
   "id": "06d3a3b5-a451-4a5f-a023-4b5534f4bdc3",
   "metadata": {},
   "source": [
    "Some Problems On OOP:\n",
    "Write OOP classes to handle the following scenarios:\n",
    "A user can create and view 2D coordinates\n",
    "A user can find out the distance between 2 coordinates\n",
    "A user can find find the distance of a coordinate from origin\n",
    "A user can check if a point lies on a given line\n",
    "A user can find the distance between a given 2D point and a given line\n",
    "1. A user can create and view 2D co-ordinates\n"
   ]
  },
  {
   "cell_type": "code",
   "execution_count": 166,
   "id": "4438964d-3b79-44e1-8b65-041dfccfc76c",
   "metadata": {},
   "outputs": [],
   "source": [
    "class Point:\n",
    "\n",
    " def __init__(self,x,y):\n",
    "     self.x_cod = x\n",
    "     self.y_cod = y\n",
    "\n",
    " def __str__(self):\n",
    "     return \"<{},{}>\".format(self.x_cod,self.y_cod)"
   ]
  },
  {
   "cell_type": "code",
   "execution_count": 167,
   "id": "f8716ab0-9ffc-4bc9-b0d5-2b908f5b7536",
   "metadata": {},
   "outputs": [
    {
     "name": "stdout",
     "output_type": "stream",
     "text": [
      "<4,5>\n"
     ]
    }
   ],
   "source": [
    "x = 4\n",
    "y = 5\n",
    "print(Point(4,5))"
   ]
  },
  {
   "cell_type": "code",
   "execution_count": 168,
   "id": "adeda085-4aed-46e5-a941-816ba360e05d",
   "metadata": {},
   "outputs": [],
   "source": [
    "class Point:\n",
    "\n",
    " def __init__(self,x,y):\n",
    "     self.x_cod = x\n",
    "     self.y_cod = y\n",
    "\n",
    " def __str__(self):\n",
    "     return \"<{},{}>\".format(self.x_cod,self.y_cod)\n",
    "\n",
    " def euclidean_distance(self,other):\n",
    "     return ((self.x_cod-self.y_cod)**2 + (self.y_cod-self.x_cod)**2)**0.5"
   ]
  },
  {
   "cell_type": "code",
   "execution_count": 169,
   "id": "76ccf801-3a13-4aa5-9a76-462ddee54b05",
   "metadata": {},
   "outputs": [
    {
     "data": {
      "text/plain": [
       "1.4142135623730951"
      ]
     },
     "execution_count": 169,
     "metadata": {},
     "output_type": "execute_result"
    }
   ],
   "source": [
    "p1 = Point(0,1)\n",
    "p2 = Point(1,1)\n",
    "p1.euclidean_distance(p2)\n"
   ]
  },
  {
   "cell_type": "code",
   "execution_count": 170,
   "id": "508933a8-49c6-45ea-a57f-8797054f4da7",
   "metadata": {},
   "outputs": [],
   "source": [
    "class Point:\n",
    " def __init__(self,x,y):\n",
    "     self.x_cod = x\n",
    "     self.y_cod = y\n",
    " def distance_from_origin(self):\n",
    "     return (self.x_cod**2 + self.y_cod**2)**0.5 \n"
   ]
  },
  {
   "cell_type": "code",
   "execution_count": 171,
   "id": "fc3b29c9-a15e-4fd9-97dd-4980236ab2d4",
   "metadata": {},
   "outputs": [
    {
     "name": "stdout",
     "output_type": "stream",
     "text": [
      "10.0\n",
      "10.04987562112089\n"
     ]
    }
   ],
   "source": [
    "p1 = Point(0,10)\n",
    "p2 = Point(1,10)\n",
    "print(p1.distance_from_origin())\n",
    "print(p2.distance_from_origin())"
   ]
  },
  {
   "cell_type": "code",
   "execution_count": 172,
   "id": "b7a83a11-6afd-4d6e-a109-54d797d7a1a2",
   "metadata": {},
   "outputs": [],
   "source": [
    "class Line:\n",
    "\n",
    " def __init__(self,A,B,C):\n",
    "     self.A = A\n",
    "     self.B = B\n",
    "     self.C = C\n",
    "\n",
    " def __str__(self):\n",
    "     return '{}x + {}y + {} = 0'.format(self.A, self.B, self.C)\n",
    "\n",
    " def point_on_line(line,point):\n",
    "     if line.A*point.x_cod + line.B*point.y_cod + line.C == 0:\n",
    "         return 'point lies on line'\n",
    "     else:\n",
    "         return 'does not on line'"
   ]
  },
  {
   "cell_type": "code",
   "execution_count": 173,
   "id": "68c0aadc-118e-4a28-a67f-892c816d1de7",
   "metadata": {},
   "outputs": [
    {
     "data": {
      "text/plain": [
       "'does not on line'"
      ]
     },
     "execution_count": 173,
     "metadata": {},
     "output_type": "execute_result"
    }
   ],
   "source": [
    "l1 = Line(1,1,-2)\n",
    "p1 = Point(1,10)\n",
    "l1.point_on_line(p2)\n"
   ]
  },
  {
   "cell_type": "code",
   "execution_count": 174,
   "id": "b0196e0e-3979-4889-8bb0-e3d0ab686292",
   "metadata": {},
   "outputs": [],
   "source": [
    "class Line:\n",
    " def __init__(self,A,B,C):\n",
    "     self.A = A\n",
    "     self.B = B\n",
    "     self.C = C\n",
    " def shortest_distance(line,point):\n",
    "     return abs(line.A*point.x_cod + line.B*point.y_cod + line.C)/(line.A**2 + line.B**2)"
   ]
  },
  {
   "cell_type": "code",
   "execution_count": 175,
   "id": "13472dae-2b40-41e5-832d-d840d276d843",
   "metadata": {},
   "outputs": [
    {
     "data": {
      "text/plain": [
       "4.5"
      ]
     },
     "execution_count": 175,
     "metadata": {},
     "output_type": "execute_result"
    }
   ],
   "source": [
    "l1 = Line(1,1,-2)\n",
    "p1 = Point(1,10)\n",
    "l1.shortest_distance(p1)\n"
   ]
  },
  {
   "cell_type": "markdown",
   "id": "a1d65d19-4e5f-4491-a9e5-604ba415a8c7",
   "metadata": {},
   "source": [
    "Encapsulation - OOP in Python\n",
    "Encapsulation is one of the fundamental principles of object-oriented programming (OOP)\n",
    "and is supported in Python, just like in many other object-oriented languages. It refers to\n",
    "the concept of bundling data (attributes) and the methods (functions) that operate on that\n",
    "data into a single unit called a class. Additionally, it restricts direct access to some of the\n",
    "object's components, providing a controlled and well-defined interface to interact with the\n",
    "object.\n",
    "In Python, encapsulation is implemented using access modifiers and naming conventions:\n",
    "1. Public: Attributes and methods that are accessible from outside the class without any\n",
    "restrictions. By default, all attributes and methods in Python are public.\n",
    "2. Protected: Attributes and methods that are intended to be used only within the class\n",
    "and its subclasses. In Python, you can denote a protected attribute or method by\n",
    "prefixing it with a single underscore (e.g., _my_attribute ).\n",
    "3. Private: Attributes and methods that are intended to be used only within the class. In\n",
    "Python, you can denote a private attribute or method by prefixing it with a double\n",
    "underscore (e.g., __my_attribute ).\n"
   ]
  },
  {
   "cell_type": "code",
   "execution_count": 176,
   "id": "95e4acee-b68c-4a58-8f1d-213e2f5f5f74",
   "metadata": {},
   "outputs": [],
   "source": [
    "\n",
    "# if we have a one class\n",
    "class Myclass:\n",
    " def __init__(self):\n",
    "     self.public_attribute = 55\n",
    "     self._protected_attribute = 'Hello'\n",
    "     self.__private_attribute = 'World'\n",
    "\n",
    " def public_method(self):\n",
    "     return \"This is public method\"\n",
    "\n",
    " def _protected_method(self):\n",
    "     return \"This is Protected Method\"\n",
    "\n",
    " def __private_method(self):\n",
    "     return \"this is private Method\"\n"
   ]
  },
  {
   "cell_type": "code",
   "execution_count": 177,
   "id": "e717b876-6f26-4f3f-b839-4fffe4d82349",
   "metadata": {},
   "outputs": [],
   "source": [
    "\n",
    "obj = Myclass()"
   ]
  },
  {
   "cell_type": "code",
   "execution_count": 178,
   "id": "0a5c3698-a059-4a27-b9c6-b00b2ef6b226",
   "metadata": {},
   "outputs": [
    {
     "name": "stdout",
     "output_type": "stream",
     "text": [
      "55\n",
      "This is public method\n"
     ]
    }
   ],
   "source": [
    "\n",
    "# we have to access the public attribaute dirctly and don't give any tyoe of error\n",
    "print(obj.public_attribute)\n",
    "print(obj.public_method())\n"
   ]
  },
  {
   "cell_type": "code",
   "execution_count": 179,
   "id": "97a321b7-5824-44c3-b552-3a3b5ebf8506",
   "metadata": {},
   "outputs": [
    {
     "name": "stdout",
     "output_type": "stream",
     "text": [
      "Hello\n",
      "This is Protected Method\n"
     ]
    }
   ],
   "source": [
    "# so now we try for Protected attribute\n",
    "print(obj._protected_attribute)\n",
    "print(obj._protected_method())"
   ]
  },
  {
   "cell_type": "code",
   "execution_count": 180,
   "id": "d88ee1b5-aecb-449a-aa6a-2150ac9254c8",
   "metadata": {},
   "outputs": [
    {
     "ename": "AttributeError",
     "evalue": "'Myclass' object has no attribute '__private_attribute'",
     "output_type": "error",
     "traceback": [
      "\u001b[1;31m---------------------------------------------------------------------------\u001b[0m",
      "\u001b[1;31mAttributeError\u001b[0m                            Traceback (most recent call last)",
      "Cell \u001b[1;32mIn[180], line 2\u001b[0m\n\u001b[0;32m      1\u001b[0m \u001b[38;5;66;03m# Accessing private attributes and methods directly will result in an error:\u001b[39;00m\n\u001b[1;32m----> 2\u001b[0m \u001b[38;5;28mprint\u001b[39m(\u001b[43mobj\u001b[49m\u001b[38;5;241;43m.\u001b[39;49m\u001b[43m__private_attribute\u001b[49m) \u001b[38;5;66;03m# Raises an AttributeError\u001b[39;00m\n\u001b[0;32m      3\u001b[0m \u001b[38;5;28mprint\u001b[39m(obj\u001b[38;5;241m.\u001b[39m__private_method()) \u001b[38;5;66;03m# Raises an AttributeError\u001b[39;00m\n",
      "\u001b[1;31mAttributeError\u001b[0m: 'Myclass' object has no attribute '__private_attribute'"
     ]
    }
   ],
   "source": [
    "# Accessing private attributes and methods directly will result in an error:\n",
    "print(obj.__private_attribute) # Raises an AttributeError\n",
    "print(obj.__private_method()) # Raises an AttributeError\n"
   ]
  },
  {
   "cell_type": "markdown",
   "id": "52f359f9-3e92-464b-80c3-9e3a2adfc0e9",
   "metadata": {},
   "source": [
    "You can undestand with Encapsulation with this short story:\n",
    "In a bustling city, there was a high-tech security system protecting a valuable treasure. The\n",
    "system had a keypad (public interface) that allowed authorized personnel to enter a secret\n",
    "code. Behind the keypad was a locked room (protected layer) with advanced security\n",
    "features, and inside that room was a safe (private layer) holding the treasure. Only a select\n",
    "few knew the secret code, ensuring the treasure's safety while providing access to those who\n",
    "needed it. This is encapsulation in action, safeguarding valuable data while allowing\n",
    "controlled access.\n"
   ]
  },
  {
   "cell_type": "markdown",
   "id": "90636c11-130e-4e0d-a011-61fc301c871f",
   "metadata": {},
   "source": [
    "Top five benefits of encapsulation:\n",
    "1. Controlled Access: Encapsulation restricts direct access to internal data, ensuring that it\n",
    "is only modified through well-defined methods, which helps prevent unintended errors\n",
    "and maintain data integrity.\n",
    "2. Modularity: Encapsulation promotes modular code by isolating the implementation\n",
    "details of a class. This makes it easier to update or replace components without\n",
    "affecting the rest of the system.\n",
    "3. Information Hiding: It hides complex internal details, reducing the complexity for\n",
    "users of a class and allowing developers to change the implementation without\n",
    "impacting external code.\n",
    "4. Security: By controlling access to sensitive data and methods, encapsulation enhances\n",
    "security, reducing the risk of unauthorized or malicious manipulation.\n",
    "5. Reusability: Encapsulation facilitates the creation of reusable and self-contained\n",
    "classes, which can be easily integrated into different parts of a program or shared\n",
    "across projects, saving development time and effort.\n",
    "Common uses of encapsulation in programming:\n",
    "1. Data Protection: Encapsulation restricts direct access to data, ensuring that it can only\n",
    "be modified through controlled methods. This protects data integrity and prevents\n",
    "unintended modifications or errors.\n",
    "2. Abstraction: It allows you to present a simplified and high-level view of an object,\n",
    "hiding the complex implementation details. This abstraction makes it easier for users of\n",
    "the class to understand and work with it.\n",
    "3. Code Organization: Encapsulation helps organize code by bundling related data and\n",
    "methods within a class. This modular approach enhances code readability and\n",
    "maintainability, making it easier to manage large codebases.\n",
    "4. Security: By encapsulating sensitive data and operations, you can control who has\n",
    "access to them. This enhances security by preventing unauthorized access or\n",
    "manipulation of critical information.\n",
    "5. Reusability: Encapsulated classes can be reused in different parts of a program or in\n",
    "different projects. This reusability saves development time and promotes the creation of\n",
    "robust, well-tested components."
   ]
  },
  {
   "cell_type": "markdown",
   "id": "5c68751b-326e-4948-a43d-c67f7426547e",
   "metadata": {},
   "source": [
    "Class Relationships in object-oriented\n",
    "programming (OOP) with Python:\n",
    "1. Aggregation (Has-a Relationship):\n",
    "Definition: Aggregation is a class relationship where one class (the container or\n",
    "composite class) contains or references another class (the contained or component\n",
    "class) as part of its structure. It models a \"has-a\" relationship, where the container\n",
    "class has one or more instances of the contained class.\n",
    "Usage: Aggregation is often used to model objects that are composed of or\n",
    "contain other objects. It can be implemented using attributes or references in the\n",
    "container class.\n",
    "Example: In a university system, the University class may contain\n",
    "Department objects, and each Department contains Professor objects. This\n",
    "represents an aggregation relationship because a university has departments, and\n",
    "each department has professors.\n",
    "2. Inheritance (Is-a Relationship):\n",
    "Definition: Inheritance is a type of class relationship where a subclass (derived\n",
    "class) inherits properties and behaviors from a superclass (base class). It models an\n",
    "\"is-a\" relationship, where the subclass is a more specific or specialized version of\n",
    "the superclass.\n",
    "Usage: In Python, inheritance is established using the class\n",
    "SubClass(BaseClass) syntax. The subclass inherits attributes and methods from\n",
    "the superclass and can also add its own or override the inherited ones.\n",
    "Example: If you have a base class Vehicle , you can create subclasses like Car\n",
    "and Bicycle that inherit attributes and methods from Vehicle while adding\n",
    "their own specific properties.\n",
    "These two class relationships, inheritance and aggregation, are fundamental concepts in\n",
    "OOP and are used extensively in software design to model different types of relationships\n",
    "between classes and objects.\n",
    "1. Aggregation(Has a Realtionship)\r\n",
    "In object-oriented programming (OOP) with Python, aggregation is a type of association\r\n",
    "between classes where one class, known as the \"container\" or \"composite\" class, contains or\r\n",
    "references another class, known as the \"contained\" or \"component\" class. Aggregation\r\n",
    "represents a \"has-a\" relationship, where the container class has one or more instances of the\r\n",
    "contained class as part of its own structure.\r\n",
    "Aggregation is often used to model relationships between objects when one object is\r\n",
    "composed of or contains other objects. It is a way to create more complex objects by\r\n",
    "combining simpler objects. A classic example of aggregation is a university system University class can contain Department objects, and each Department can contain \n",
    "`Professor objects. where a\n"
   ]
  },
  {
   "cell_type": "code",
   "execution_count": 181,
   "id": "0643f2ac-fa42-4b99-b37c-57caa619a49d",
   "metadata": {},
   "outputs": [],
   "source": [
    "class Professor:\n",
    " def __init__(self, name):\n",
    "     self.name = name\n",
    "class Department:\n",
    "     def __init__(self, name):\n",
    "         self.name = name\n",
    "         self.professors = [] # Aggregation: Department contains Professor objects\n",
    "class University:\n",
    "     def __init__(self, name):\n",
    "         self.name = name\n",
    "         self.departments = [] # Aggregation: University contains Department object\n",
    "# Creating objects\n",
    "professor1 = Professor(\"John Doe\")\n",
    "professor2 = Professor(\"Jane Smith\")\n",
    "department1 = Department(\"Computer Science\")\n",
    "department1.professors.append(professor1)\n",
    "department1.professors.append(professor2)\n",
    "university = University(\"ABC University\")\n",
    "university.departments.append(department1)"
   ]
  },
  {
   "cell_type": "markdown",
   "id": "3d4c3de0-70f9-4e80-b222-0fb3cf09d954",
   "metadata": {},
   "source": [
    "In this example:\n",
    "'University' has an aggregation relationship with 'Department' because it contains a list\n",
    "of 'Department' objects.\n",
    "'Department' has an aggregation relationship with 'Professor' because it contains a list\n",
    "of Professor objects.\n",
    "Aggregation is a way to represent the idea that one class is composed of or contains\n",
    "instances of another class, and it is often used to model real-world relationships between\n",
    "objects in a system.\n",
    "Top five reasons why we use aggregation in object-oriented\r\n",
    "programming:\r\n",
    "1. Modularity and Code Reusability: Aggregation allows for the creation of modular,\r\n",
    "reusable components, making it easier to build and maintain complex systems.\r\n",
    "2. Clearer Object Relationships: It helps model real-world relationships accurately,\r\n",
    "enhancing the code's clarity and alignment with the problem domain.\r\n",
    "3. Flexible System Design: Aggregation permits changes and extensions to be made to\r\n",
    "the codebase without affecting the entire system, ensuring adaptability to evolving\r\n",
    "requirements.\r\n",
    "4. Enhanced Encapsulation: It supports improved data and behavior encapsulation by\r\n",
    "encapsulating the interaction details between components within the contai\n",
    "5. Efficient Resource Utilization: Aggregation can lead to efficient memory usage by\r\n",
    "sharing component instances among multiple container objects, making it particularly\r\n",
    "useful in resource-constrained environmentsThe solid diamond indicates Composition. Notice how teams belong to the single\r\n",
    "company object. If the company object is deleted, the teams will have no reason to exist\r\n",
    "anymore.\r\n",
    "The open diamond indicates Aggregation. When a team is deleted, the employees that\r\n",
    "were in the team, still exist. Employees might also belong to multiple teams. A team\r\n",
    "object does not \"own\" an employee object..\r",
    "ner class. \n"
   ]
  },
  {
   "cell_type": "markdown",
   "id": "73ee9d53-6c86-45e8-93a6-c89fae69912c",
   "metadata": {},
   "source": [
    "Inheritance in OOP\n",
    "What is Inheritance(is a relationship)\n",
    "Inheritance is one of the fundamental concepts in object-oriented programming (OOP) that\n",
    "allows a new class (subclass or derived class) to inherit properties and behaviors (attributes\n",
    "and methods) from an existing class (base class or superclass). This allows you to create a\n",
    "new class that is a modified or specialized version of an existing class, promoting code reuse\n",
    "and establishing a hierarchical relationship between classes.\n",
    "Inheritance is typically used to model an \"is-a\" relationship between classes, where the\n",
    "derived class is a more specific or specialized version of the base class. The derived class\n",
    "inherits the attributes and methods of the base class and can also have its own additional\n",
    "attributes and methods or override the inherited ones.\n"
   ]
  },
  {
   "cell_type": "code",
   "execution_count": 182,
   "id": "781b76bf-a41e-4df8-b763-facebf2761e5",
   "metadata": {},
   "outputs": [
    {
     "name": "stdout",
     "output_type": "stream",
     "text": [
      "Buddy says Woof!\n",
      "Whiskers says Meow!\n"
     ]
    }
   ],
   "source": [
    "class Animal:\n",
    " def __init__(self, name):\n",
    "     self.name = name\n",
    " def speak(self):\n",
    "     pass # Base class method, to be overridden by subclasses\n",
    "class Dog(Animal):\n",
    "     def speak(self):\n",
    "         return f\"{self.name} says Woof!\"\n",
    "class Cat(Animal):\n",
    "     def speak(self):\n",
    "         return f\"{self.name} says Meow!\"\n",
    "# Creating objects\n",
    "dog = Dog(\"Buddy\")\n",
    "cat = Cat(\"Whiskers\")\n",
    "# Calling the speak method on objects\n",
    "print(dog.speak())\n",
    "print(cat.speak()) "
   ]
  },
  {
   "cell_type": "markdown",
   "id": "8b077a57-79db-4f36-bb52-b864bdd8bdda",
   "metadata": {},
   "source": [
    "In this example:\n",
    "'Animal' is the base class, and 'Dog' and 'Cat' are subclasses of 'Animal'.Both 'Dog' and 'Cat' inherit the 'name' attribute and the 'speak' method from the'Animal' class.\n",
    "However, each subclass overrides the 'speak' method to provide its own\n",
    "implementation, representing the specific behavior of each animal. Inheritance is a\n",
    "powerful mechanism in OOP because it allows you to create a hierarchy of classes, with\n",
    "each level of the hierarchy adding or modifying functionality as needed. This promotes\n",
    "code reuse, encapsulation, and abstraction, making it easier to manage and extend your\n",
    "codebase.\n",
    "Inheritance is a fundamental concept in object-oriented programming\n",
    "(OOP) that offers several benefits for software development. Here are five\n",
    "key advantages of inheritance:\n",
    "1. Code Reusability: Inheritance allows you to reuse code from existing classes (base or\n",
    "parent classes) in new classes (derived or child classes). This promotes code reusability,\n",
    "reduces redundancy, and saves development time. Developers can leverage well-tested\n",
    "and established code when creating new classes.\n",
    "2. Hierarchical Structure: Inheritance enables the creation of a hierarchical structure of\n",
    "classes, with each derived class inheriting attributes and methods from its parent class.\n",
    "This hierarchical organization makes it easier to understand and manage the\n",
    "relationships between different classes in a complex system.\n",
    "3. Promotes Polymorphism: Inheritance is closely linked to the concept of\n",
    "polymorphism, which allows objects of different classes to be treated as objects of a\n",
    "common base class. This promotes flexibility and extensibility in your code, making it\n",
    "easier to work with diverse types of objects in a unified manner.\n",
    "4. Supports Code Extensibility: With inheritance, you can extend existing classes to add\n",
    "or modify functionality. Derived classes can override inherited methods to provide\n",
    "specialized behavior while still benefiting from the base class's shared attributes and\n",
    "methods. This makes it straightforward to adapt and extend your code to\n",
    "accommodate changing requirements.\n",
    "5. Enhances Maintenance: Inheritance improves code maintenance because changes\n",
    "made to the base class are automatically reflected in all its derived classes. This reduces\n",
    "the risk of introducing bugs during updates and ensures that modifications are\n",
    "consistently applied throughout the codebase. It also helps maintain a consistent\n",
    "interface for objects derived from the same base class.\n",
    "In summary, inheritance is a powerful mechanism in OOP that promotes code reusability,\n",
    "structure, flexibility, extensibility, and ease of maintenance. It is a cornerstone of building\n",
    "complex software systems by organizing and leveraging existing code effectively.\n",
    "Inheritance in summary\n",
    "A class can inherit from another class\n",
    "Inheritance improves code reuse\r\n",
    "Constructor, attributes, methods get inherited to the child class\r\n",
    "The parent has no access to the child class\r\n",
    "Private properties of parent are not accessible directly in child class\r\n",
    "Child class can override the attributes or methods. This is called method overriding\r\n",
    "super() is an inbuilt function which is used to invoke the parent class methods and\r\n",
    "constructor\r\n",
    "Types of Inheritance\r\n",
    "1. Single Inheritance:\r\n",
    "In single inheritance, a class inherits properties and behaviors from a single parent\r\n",
    "class. This is the simplest form of inheritance, where each class has only one\r\n",
    "immediate base class.\r\n",
    "2. Multilevel Inheritance:\r\n",
    "In multilevel inheritance, a class derives from a class, which in turn derives from\r\n",
    "another class. This creates a chain of inheritance where each class extends the\r\n",
    "previous one. It forms a hierarchy of classes.\r\n",
    "3. Hierarchical Inheritance:\r\n",
    "In hierarchical inheritance, multiple derived classes inherit from a single base or\r\n",
    "parent class. This results in a structure where several classes share a common\r\n",
    "ancestor.\r\n",
    "4. Multiple Inheritance (Diamond Problem):\r\n",
    "Multiple inheritance occurs when a class inherits properties and behaviors from\r\n",
    "more than one parent class. This can lead to a complication known as the\r\n",
    "\"diamond problem,\" where ambiguity arises when a method or attribute is called\r\n",
    "that exists in multiple parent classes. Some programming languages, like Python,\r\n",
    "provide mechanisms to resolve this ambiguity.\r\n",
    "5. Hybrid Inheritance:\r\n",
    "Hybrid inheritance is a combination of two or more types of inheritance mentioned\r\n",
    "above. It is used to model complex relationships in a system where multiple\r\n",
    "inheritance hierarchies may intersect.\r\n",
    "These different types of inheritance allow developers to model various relationships and\r\n",
    "structures in object-oriented programming. Choosing the appropriate type of inheritance\r\n",
    "depends on the specific requirements and design of the software being developed.\r"
   ]
  },
  {
   "cell_type": "code",
   "execution_count": 183,
   "id": "39ae7e6e-1156-435e-8107-59b00a2a399b",
   "metadata": {},
   "outputs": [
    {
     "name": "stdout",
     "output_type": "stream",
     "text": [
      "Inside phone constructor\n",
      "Buying a phone\n"
     ]
    }
   ],
   "source": [
    "# single inheritance\n",
    "class Phone:\n",
    "     def __init__(self, price, brand, camera):\n",
    "         print (\"Inside phone constructor\")\n",
    "         self.__price = price\n",
    "         self.brand = brand\n",
    "         self.camera = camera\n",
    "     def buy(self):\n",
    "         print (\"Buying a phone\")\n",
    "class SmartPhone(Phone):\n",
    "     pass\n",
    "SmartPhone(1000,\"Apple\",\"13px\").buy()"
   ]
  },
  {
   "cell_type": "code",
   "execution_count": 184,
   "id": "c3091baa-4b39-448d-b8b9-4ca3d3faa72f",
   "metadata": {},
   "outputs": [],
   "source": [
    "# multilevel\n",
    "class Product:\n",
    " def review(self):\n",
    "     print (\"Product customer review\")\n",
    "class Phone(Product):\n",
    " def __init__(self, price, brand, camera):\n",
    "     print (\"Inside phone constructor\")\n",
    "     self.__price = price\n",
    "     self.brand = brand\n",
    "     self.camera = camera\n",
    " def buy(self):\n",
    "     print (\"Buying a phone\")\n",
    "class SmartPhone(Phone):\n",
    "     pass\n"
   ]
  },
  {
   "cell_type": "code",
   "execution_count": 186,
   "id": "6c4af22a-af5a-4fc9-ba75-e0f006630a61",
   "metadata": {},
   "outputs": [],
   "source": [
    "# Hierarchical\n",
    "class Phone:\n",
    " def __init__(self, price, brand, camera):\n",
    "     print (\"Inside phone constructor\")\n",
    "     self.__price = price\n",
    "     self.brand = brand\n",
    "     self.camera = camera\n",
    " def buy(self):\n",
    "     print (\"Buying a phone\")\n",
    "class SmartPhone(Phone):\n",
    "     pass"
   ]
  },
  {
   "cell_type": "code",
   "execution_count": 188,
   "id": "3491f5a7-ded4-47d6-9e59-fd49f504099f",
   "metadata": {},
   "outputs": [],
   "source": [
    "# Multiple\n",
    "class Phone:\n",
    " def __init__(self, price, brand, camera):\n",
    "     print (\"Inside phone constructor\")\n",
    "     self.__price = price\n",
    "     self.brand = brand\n",
    "     self.camera = camera\n",
    " def buy(self):\n",
    "     print (\"Buying a phone\")\n",
    "class Product:\n",
    " def review(self):\n",
    "     print (\"Customer review\")\n",
    "class SmartPhone(Phone, Product):\n",
    "   pass\n"
   ]
  },
  {
   "cell_type": "markdown",
   "id": "4268606a-1ab4-4d2d-aa4c-c6366d5b8f83",
   "metadata": {},
   "source": [
    "### Polymorphism and Abstraction - ObjectOriented Programming (OOP)\n",
    "### Polymorphism:\n",
    "Polymorphism is one of the four fundamental principles of Object-Oriented Programming\n",
    "(OOP), along with encapsulation, inheritance, and abstraction. It allows objects of different\n",
    "classes to be treated as objects of a common superclass. In Python, polymorphism is\n",
    "implemented through method overriding and method overloading, which are two related\n",
    "concepts.\n",
    "1. Method Overriding\n",
    "2. Method Overloading\n",
    "1. Method Overriding\n",
    "Method overriding occurs when a subclass provides a specific implementation of a method\n",
    "that is already defined in its superclass. This allows the subclass to provide its own behavior\n",
    "for a method while still adhering to the method signature defined in the superclass.\n",
    "Here's an example of method overriding in Python:\n"
   ]
  },
  {
   "cell_type": "markdown",
   "id": "e7ac5e24-5ea1-4a0e-b556-18ae7f3487b7",
   "metadata": {},
   "source": [
    "class Animal:\n",
    " def speak(self):\n",
    "     pass\n",
    "class Dog(Animal):\n",
    "     def speak(self):\n",
    "     return \"Woof!\"\n",
    "class Cat(Animal):\n",
    "     0eturn \"Meow!\"\n",
    "dog = Dog()\n",
    "cat = Cat()\n",
    "print(dog.speak())\n",
    "print(cat.speak())"
   ]
  },
  {
   "cell_type": "markdown",
   "id": "2c46d145-9843-4fb7-ac97-f10dee47f70f",
   "metadata": {},
   "source": [
    "2.Method Overloading:\n",
    "Method overloading allows a class to define multiple methods with the same name but\n",
    "different parameters. Python does not support traditional method overloading with different parameter types like some other languages (e.g., Java or C++). Instead, Python achieves a\n",
    "form of method overloading using default arguments and variable-length argument lists.\n",
    "Here's an example:\n"
   ]
  },
  {
   "cell_type": "code",
   "execution_count": 189,
   "id": "9a0b4cbf-e875-4d1d-bc8e-044fbac90100",
   "metadata": {},
   "outputs": [],
   "source": [
    "class Calculator:\n",
    " def add(self, a, b):\n",
    "     return a + b\n",
    " def add(self, a, b, c):\n",
    "     return a + b + c\n",
    "calc = Calculator()\n",
    "#result1 = calc.add(1, 2) # Error: The second add method with three paramete\n",
    "result2 = calc.add(1, 2, 3) # This works fine.\n",
    "# In Python, only the latest defined method with a particular name is accessible. Traditional\n",
    "# method overloading with different parameter types isn't supported"
   ]
  },
  {
   "cell_type": "code",
   "execution_count": 190,
   "id": "ebb67c69-5258-49a7-9fc9-14f941cd52f6",
   "metadata": {},
   "outputs": [
    {
     "name": "stdout",
     "output_type": "stream",
     "text": [
      "12.56\n",
      "12\n"
     ]
    }
   ],
   "source": [
    "class Shape:\n",
    " def area(self,a,b=0):\n",
    "     if b == 0:\n",
    "         return 3.14*a*a\n",
    "     else:\n",
    "         return a*b\n",
    "s = Shape()\n",
    "print(s.area(2))\n",
    "print(s.area(3,4))"
   ]
  },
  {
   "cell_type": "markdown",
   "id": "e9de2903-3f22-45f9-ab5d-ef080fd62a67",
   "metadata": {},
   "source": [
    "Polymorphism allows you to write more flexible and reusable code by treating different\n",
    "objects in a consistent way, regardless of their specific class. This promotes code flexibility\n",
    "and makes it easier to extend and maintain your programs as they grow in complexity.\n"
   ]
  },
  {
   "cell_type": "markdown",
   "id": "065cf56e-8e9b-4db8-810e-b21b912723dd",
   "metadata": {},
   "source": [
    "Abstraction\n",
    "Abstraction is one of the four fundamental principles of Object-Oriented Programming\n",
    "(OOP), along with encapsulation, inheritance, and polymorphism. Abstraction is the process\n",
    "of simplifying complex reality by modeling classes based on the essential properties and\n",
    "behaviors of objects, while ignoring or hiding the non-essential details.\n",
    "In software development, abstraction allows you to create a simplified representation of an\n",
    "object or system that focuses on what's relevant to your application and hides the\n",
    "unnecessary complexity. Here are some key aspects of abstraction:\n",
    "1. Modeling: Abstraction involves defining classes and objects that capture the essential\n",
    "characteristics and behaviors of real-world entities or concepts. You create classes to\n",
    "represent these abstractions, defining their attributes (data) and methods (behavior) to\n",
    "2. Hiding Complexity: Abstraction allows you to hide the internal details and\r\n",
    "complexities of an object's implementation from the outside world. This is achieved\r\n",
    "through encapsulation, where you define private attributes and provide public methods\r\n",
    "to interact with the object.\r\n",
    "3. Generalization: Abstraction often involves creating abstract classes or interfaces that\r\n",
    "define a common set of attributes and behaviors shared by multiple related classes. This\r\n",
    "promotes code reusability and flexibility through inheritance.\r\n",
    "4. Focus on What, Not How: When you work with abstractions, you can focus on using\r\n",
    "objects based on what they do (their methods) rather than how they do it (their\r\n",
    "implementation details). This separation of concerns simplifies the design and\r\n",
    "maintenance of complex systems.\r\n",
    "Here's a simple example of abstraction in Python:\n"
   ]
  },
  {
   "cell_type": "code",
   "execution_count": 191,
   "id": "4bbec68e-aa2a-4180-a344-fb677077bf23",
   "metadata": {},
   "outputs": [],
   "source": [
    "class Vehicle:\n",
    " def __init__(self, make, model):\n",
    "     self.make = make\n",
    "     self.model = model\n",
    " def start(self):\n",
    "     pass\n",
    " def stop(self):\n",
    "     pass\n",
    "class Car(Vehicle):\n",
    " def start(self):\n",
    "     print(f\"{self.make} {self.model} is starting\")\n",
    " def stop(self):\n",
    "     print(f\"{self.make} {self.model} is stopping\")\n",
    "class Motorcycle(Vehicle):\n",
    " def start(self):\n",
    "     print(f\"{self.make} {self.model} is revving up\")\n",
    " def stop(self):\n",
    "     print(f\"{self.make} {self.model} is slowing down\")"
   ]
  },
  {
   "cell_type": "markdown",
   "id": "d0bdbe13-951f-4a20-a036-69fb669f3b89",
   "metadata": {},
   "source": [
    "In this example, the Vehicle class represents an abstraction of a general vehicle with\n",
    "common attributes (make and model) and methods (start and stop). Concrete subclasses\n",
    "like Car and Motorcycle inherit from Vehicle and provide specific implementations\n",
    "for the start and stop methods. Users of these classes can interact with them without\n",
    "needing to know the exact implementation details of each vehicle type.\n",
    "Abstraction helps in managing complexity, improving code organization, and making code\n",
    "more maintainable and understandable by focusing on high-level concepts and behaviors."
   ]
  },
  {
   "cell_type": "markdown",
   "id": "529d846c-478e-4215-839d-1946c2d1bd35",
   "metadata": {},
   "source": [
    "How to Use Abstraction:"
   ]
  },
  {
   "cell_type": "code",
   "execution_count": 203,
   "id": "42c30f3b-82fc-4729-bbe3-9c5bcafebec3",
   "metadata": {},
   "outputs": [],
   "source": [
    "from abc import ABC,abstractmethod\n",
    "class BankApp(ABC):\n",
    "     def database(self):\n",
    "         print('connected to database')\n",
    "     @abstractmethod # This is absreactmethod\n",
    "     def security(self):\n",
    "         pass\n",
    "     @abstractmethod\n",
    "     def display(self):\n",
    "         pass\n"
   ]
  },
  {
   "cell_type": "code",
   "execution_count": 204,
   "id": "c375a6d1-f5c8-4cc9-b1c8-8e96060f4308",
   "metadata": {},
   "outputs": [],
   "source": [
    "class MobileApp(BankApp):\n",
    " def mobile_login(self):\n",
    "     print('login into mobile')\n",
    " def security(self): # if we use some function in abstractmethod then we h\n",
    "     print('mobile security')\n",
    " def display(self):\n",
    "     print('display')"
   ]
  },
  {
   "cell_type": "code",
   "execution_count": 205,
   "id": "ce086c18-7f91-4e8d-8124-71b6396a69ab",
   "metadata": {},
   "outputs": [
    {
     "name": "stdout",
     "output_type": "stream",
     "text": [
      "mobile security\n"
     ]
    }
   ],
   "source": [
    "\n",
    "mob = MobileApp()\n",
    "mob.security()\n"
   ]
  },
  {
   "cell_type": "code",
   "execution_count": 206,
   "id": "0b582f15-0648-43d5-9081-2d5ae28cd9b3",
   "metadata": {},
   "outputs": [
    {
     "ename": "TypeError",
     "evalue": "Can't instantiate abstract class BankApp with abstract methods display, security",
     "output_type": "error",
     "traceback": [
      "\u001b[1;31m---------------------------------------------------------------------------\u001b[0m",
      "\u001b[1;31mTypeError\u001b[0m                                 Traceback (most recent call last)",
      "Cell \u001b[1;32mIn[206], line 1\u001b[0m\n\u001b[1;32m----> 1\u001b[0m obj \u001b[38;5;241m=\u001b[39m \u001b[43mBankApp\u001b[49m\u001b[43m(\u001b[49m\u001b[43m)\u001b[49m\n",
      "\u001b[1;31mTypeError\u001b[0m: Can't instantiate abstract class BankApp with abstract methods display, security"
     ]
    }
   ],
   "source": [
    "\n",
    "obj = BankApp()\n"
   ]
  },
  {
   "cell_type": "markdown",
   "id": "6bfc16f8-ab69-437e-80bc-879155fe6707",
   "metadata": {},
   "source": [
    "The error message indicates that you are trying to instantiate an abstract class called\n",
    "BankApp, but this class contains abstract methods display and security that have not been\n",
    "implemented in the BankApp class or its subclasses.\n",
    "In Python, an abstract class is a class that cannot be instantiated directly, and it often serves\n",
    "as a blueprint for other classes. Abstract classes can contain abstract methods, which are\n",
    "methods declared without an implementation in the abstract class. Subclasses of the\n",
    "abstract class are required to provide implementations for these abstract methods.\n"
   ]
  }
 ],
 "metadata": {
  "kernelspec": {
   "display_name": "Python 3 (ipykernel)",
   "language": "python",
   "name": "python3"
  },
  "language_info": {
   "codemirror_mode": {
    "name": "ipython",
    "version": 3
   },
   "file_extension": ".py",
   "mimetype": "text/x-python",
   "name": "python",
   "nbconvert_exporter": "python",
   "pygments_lexer": "ipython3",
   "version": "3.10.8"
  }
 },
 "nbformat": 4,
 "nbformat_minor": 5
}
